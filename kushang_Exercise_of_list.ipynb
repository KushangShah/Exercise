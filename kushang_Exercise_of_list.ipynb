{
  "nbformat": 4,
  "nbformat_minor": 0,
  "metadata": {
    "colab": {
      "provenance": [],
      "authorship_tag": "ABX9TyPVensn+UfbY6fYih4OHQ2S",
      "include_colab_link": true
    },
    "kernelspec": {
      "name": "python3",
      "display_name": "Python 3"
    },
    "language_info": {
      "name": "python"
    }
  },
  "cells": [
    {
      "cell_type": "markdown",
      "metadata": {
        "id": "view-in-github",
        "colab_type": "text"
      },
      "source": [
        "<a href=\"https://colab.research.google.com/github/KushangShah/Exercise/blob/main/kushang_Exercise_of_list.ipynb\" target=\"_parent\"><img src=\"https://colab.research.google.com/assets/colab-badge.svg\" alt=\"Open In Colab\"/></a>"
      ]
    },
    {
      "cell_type": "markdown",
      "source": [
        "Defing and adding two intiger"
      ],
      "metadata": {
        "id": "nsWRCfOdW1PT"
      }
    },
    {
      "cell_type": "code",
      "execution_count": 3,
      "metadata": {
        "id": "FoWGVQq3U792"
      },
      "outputs": [],
      "source": [
        "def add(n1, n2):\n",
        "  op = n1 + n2\n",
        "  return op"
      ]
    },
    {
      "cell_type": "code",
      "source": [
        "add(9, 10)"
      ],
      "metadata": {
        "colab": {
          "base_uri": "https://localhost:8080/"
        },
        "id": "myWdRRPtV-oi",
        "outputId": "d6ac1332-572b-4353-ec79-91964959f0ef"
      },
      "execution_count": 5,
      "outputs": [
        {
          "output_type": "execute_result",
          "data": {
            "text/plain": [
              "19"
            ]
          },
          "metadata": {},
          "execution_count": 5
        }
      ]
    },
    {
      "cell_type": "code",
      "source": [
        "def add(n1, n2):\n",
        "  '''\n",
        "  this will print the add or sum of two int\n",
        "  '''\n",
        "  op = n1 + n2\n",
        "  return op"
      ],
      "metadata": {
        "id": "AGnB9uF5aZxM"
      },
      "execution_count": 6,
      "outputs": []
    },
    {
      "cell_type": "code",
      "source": [
        "add?"
      ],
      "metadata": {
        "id": "DifTLkNdajXF"
      },
      "execution_count": 7,
      "outputs": []
    },
    {
      "cell_type": "code",
      "source": [
        "add(12, 13)"
      ],
      "metadata": {
        "colab": {
          "base_uri": "https://localhost:8080/"
        },
        "id": "uZe2eLU-ah4t",
        "outputId": "b8c1a585-c433-4cab-bf3e-fdc18978ba17"
      },
      "execution_count": 9,
      "outputs": [
        {
          "output_type": "execute_result",
          "data": {
            "text/plain": [
              "25"
            ]
          },
          "metadata": {},
          "execution_count": 9
        }
      ]
    },
    {
      "cell_type": "markdown",
      "source": [
        "defing and multipyling three int:\n"
      ],
      "metadata": {
        "id": "o9a7cST-W8mN"
      }
    },
    {
      "cell_type": "code",
      "source": [
        "def num_mul(n1, n2, n3):\n",
        "  mul = n1*n2*n3\n",
        "  return mul"
      ],
      "metadata": {
        "id": "DwSXey7_WFSy"
      },
      "execution_count": null,
      "outputs": []
    },
    {
      "cell_type": "code",
      "source": [
        "num_mul(2, 5, 9)"
      ],
      "metadata": {
        "colab": {
          "base_uri": "https://localhost:8080/"
        },
        "id": "me0JwnXaWQj4",
        "outputId": "3cf9d9de-8cae-4f5f-aa76-fdab3c4b15e8"
      },
      "execution_count": null,
      "outputs": [
        {
          "output_type": "execute_result",
          "data": {
            "text/plain": [
              "90"
            ]
          },
          "metadata": {},
          "execution_count": 5
        }
      ]
    },
    {
      "cell_type": "code",
      "source": [
        "def div(n1, n2):\n",
        "  p = n1/n2\n",
        "  o = n2/n1\n",
        "  i = n1//n2\n",
        "  u = n2//n1\n",
        "  print('n1/n2','=', p)\n",
        "  print('n2/n1','=', o)\n",
        "  print('n1//n2','=', i)\n",
        "  print('n2//n1','=', u)\n",
        "  return [p, o, i, u]\n"
      ],
      "metadata": {
        "id": "Sy7jrSTLBbQG"
      },
      "execution_count": null,
      "outputs": []
    },
    {
      "cell_type": "code",
      "source": [
        "div(25, 5)"
      ],
      "metadata": {
        "colab": {
          "base_uri": "https://localhost:8080/"
        },
        "id": "6iwq2yDXBqWv",
        "outputId": "8600247e-22b3-48aa-e5a7-5eb5d97958af"
      },
      "execution_count": null,
      "outputs": [
        {
          "output_type": "stream",
          "name": "stdout",
          "text": [
            "n1/n2 = 5.0\n",
            "n2/n1 = 0.2\n",
            "n1//n2 = 5\n",
            "n2//n1 = 0\n"
          ]
        },
        {
          "output_type": "execute_result",
          "data": {
            "text/plain": [
              "[5.0, 0.2, 5, 0]"
            ]
          },
          "metadata": {},
          "execution_count": 28
        }
      ]
    },
    {
      "cell_type": "markdown",
      "source": [
        "# question will print only one output as python taks only one output"
      ],
      "metadata": {
        "id": "MIQnWstehMEo"
      }
    },
    {
      "cell_type": "code",
      "source": [
        "def func_multiple_return(n1, n2):\n",
        "\n",
        "  return n1+n2     \n",
        "  return n1*n2\n",
        "  return n1/n2\n",
        "\n",
        "  '''\n",
        "  13 as python interprets line by line so it will take first return statement and return statement ends execution\n",
        "  '''"
      ],
      "metadata": {
        "id": "kaidnLZmaVQT"
      },
      "execution_count": null,
      "outputs": []
    },
    {
      "cell_type": "code",
      "source": [
        "func_multiple_return(10, 3)"
      ],
      "metadata": {
        "colab": {
          "base_uri": "https://localhost:8080/"
        },
        "id": "0mXdjSJ-g2Ir",
        "outputId": "1a8480e3-a4b2-4de4-93ef-f1873d78b99b"
      },
      "execution_count": null,
      "outputs": [
        {
          "output_type": "execute_result",
          "data": {
            "text/plain": [
              "13"
            ]
          },
          "metadata": {},
          "execution_count": 16
        }
      ]
    },
    {
      "cell_type": "markdown",
      "source": [
        "# Simple addition"
      ],
      "metadata": {
        "id": "0JX5Wv8vaODL"
      }
    },
    {
      "cell_type": "code",
      "source": [
        "num1 = int(input())\n",
        "num2 = int(input())\n",
        "num3 = int(input())\n",
        "num4 = int(input())"
      ],
      "metadata": {
        "colab": {
          "base_uri": "https://localhost:8080/"
        },
        "id": "vlFcSzpvY1Pg",
        "outputId": "e99d7e75-26f5-45ae-b92b-15c75e27883a"
      },
      "execution_count": null,
      "outputs": [
        {
          "name": "stdout",
          "output_type": "stream",
          "text": [
            "80\n",
            "30\n"
          ]
        }
      ]
    },
    {
      "cell_type": "code",
      "source": [
        "sum = num1 + num2 + num3 + num4\n",
        "sum"
      ],
      "metadata": {
        "colab": {
          "base_uri": "https://localhost:8080/"
        },
        "id": "Zaw5j5n_ZJQV",
        "outputId": "d0fd6cde-6a92-486c-a903-dc731b4fe1d2"
      },
      "execution_count": null,
      "outputs": [
        {
          "output_type": "execute_result",
          "data": {
            "text/plain": [
              "214"
            ]
          },
          "metadata": {},
          "execution_count": 8
        }
      ]
    },
    {
      "cell_type": "code",
      "source": [
        "sub = num1 - num2 - num3 - num4\n",
        "sub"
      ],
      "metadata": {
        "colab": {
          "base_uri": "https://localhost:8080/"
        },
        "id": "jcisys5BZS_V",
        "outputId": "62471a9d-5ad7-438e-a16f-3a05e8b0c47c"
      },
      "execution_count": null,
      "outputs": [
        {
          "output_type": "execute_result",
          "data": {
            "text/plain": [
              "50"
            ]
          },
          "metadata": {},
          "execution_count": 13
        }
      ]
    },
    {
      "cell_type": "code",
      "source": [
        "mul = num1 * num2 * num3 * num4\n",
        "mul"
      ],
      "metadata": {
        "colab": {
          "base_uri": "https://localhost:8080/"
        },
        "id": "1B6khiW9ZY-i",
        "outputId": "1fa42059-74e0-4e51-c9d5-4af3ae9aff1f"
      },
      "execution_count": null,
      "outputs": [
        {
          "output_type": "execute_result",
          "data": {
            "text/plain": [
              "16"
            ]
          },
          "metadata": {},
          "execution_count": 5
        }
      ]
    },
    {
      "cell_type": "code",
      "source": [
        "div = num1 / num2 / num3 / num4"
      ],
      "metadata": {
        "id": "RJBPXG47aBoB"
      },
      "execution_count": null,
      "outputs": []
    },
    {
      "cell_type": "markdown",
      "source": [
        "# code to find data"
      ],
      "metadata": {
        "id": "ukiqzoEzacs7"
      }
    },
    {
      "cell_type": "code",
      "source": [
        "# the user want to find data in based of quater(4)\n",
        "\n",
        "user_date = input()"
      ],
      "metadata": {
        "colab": {
          "base_uri": "https://localhost:8080/"
        },
        "id": "v6XMFcmIahfw",
        "outputId": "2d3d340d-7706-498b-d233-fe20ec557e0a"
      },
      "execution_count": null,
      "outputs": [
        {
          "name": "stdout",
          "output_type": "stream",
          "text": [
            "2023-11-01\n"
          ]
        }
      ]
    },
    {
      "cell_type": "code",
      "source": [
        "date_year = user_date[:4]\n",
        "date_month = user_date[5:7]\n"
      ],
      "metadata": {
        "id": "VthwZj4sayf1"
      },
      "execution_count": null,
      "outputs": []
    },
    {
      "cell_type": "code",
      "source": [
        "# code to find the user data in quater:\n",
        "\n",
        "if date_month >= 1 and date_month < 4:\n",
        "  print(\"Q1\")\n",
        "\n",
        "elif date_month >= 4 and date_month < 7:\n",
        "  print(\"Q2\")\n",
        "\n",
        "elif date_month >= 7 and date_month < 10:\n",
        "  print(\"Q3\")\n",
        "\n",
        "else:\n",
        "  print(\"Q4\")"
      ],
      "metadata": {
        "id": "Lm8zZlj5bqd7"
      },
      "execution_count": null,
      "outputs": []
    },
    {
      "cell_type": "code",
      "source": [
        "class animal:\n",
        "  p = 99\n",
        "  pass"
      ],
      "metadata": {
        "id": "J4NUhR0Du1Cp"
      },
      "execution_count": null,
      "outputs": []
    },
    {
      "cell_type": "code",
      "source": [
        "x = animal()\n",
        "print(type(x))"
      ],
      "metadata": {
        "colab": {
          "base_uri": "https://localhost:8080/"
        },
        "id": "-19fCgWlvB-c",
        "outputId": "469d0e6e-c313-4173-fd36-a2deddd013fa"
      },
      "execution_count": null,
      "outputs": [
        {
          "output_type": "stream",
          "name": "stdout",
          "text": [
            "<class '__main__.animal'>\n"
          ]
        }
      ]
    },
    {
      "cell_type": "code",
      "source": [
        "x.p"
      ],
      "metadata": {
        "colab": {
          "base_uri": "https://localhost:8080/"
        },
        "id": "1lVtID7axK-_",
        "outputId": "87d3e628-aa8a-4b02-904f-e1fe4cb4ef60"
      },
      "execution_count": null,
      "outputs": [
        {
          "output_type": "execute_result",
          "data": {
            "text/plain": [
              "99"
            ]
          },
          "metadata": {},
          "execution_count": 9
        }
      ]
    },
    {
      "cell_type": "code",
      "source": [
        "list1 = list()\n",
        "print(type(list1))"
      ],
      "metadata": {
        "colab": {
          "base_uri": "https://localhost:8080/"
        },
        "id": "NaeqyBNJvVAw",
        "outputId": "05aed5cd-acb6-46d1-d722-ed372bddf986"
      },
      "execution_count": null,
      "outputs": [
        {
          "output_type": "stream",
          "name": "stdout",
          "text": [
            "<class 'list'>\n"
          ]
        }
      ]
    },
    {
      "cell_type": "code",
      "source": [
        "class drinks:\n",
        "  state=\"cold\"\n",
        "  tast=\"sweet\""
      ],
      "metadata": {
        "id": "nNkEIEyTvbpd"
      },
      "execution_count": null,
      "outputs": []
    },
    {
      "cell_type": "code",
      "source": [
        "mazza = drinks\n",
        "pepsi = drinks"
      ],
      "metadata": {
        "id": "awdcarqSyCF9"
      },
      "execution_count": null,
      "outputs": []
    },
    {
      "cell_type": "code",
      "source": [
        "type(mazza)"
      ],
      "metadata": {
        "colab": {
          "base_uri": "https://localhost:8080/"
        },
        "id": "9Zgllv4pyFFP",
        "outputId": "7be95ebd-99fe-4cb7-e7da-2906785874c9"
      },
      "execution_count": null,
      "outputs": [
        {
          "output_type": "execute_result",
          "data": {
            "text/plain": [
              "type"
            ]
          },
          "metadata": {},
          "execution_count": 13
        }
      ]
    },
    {
      "cell_type": "code",
      "source": [
        "mazza.state"
      ],
      "metadata": {
        "colab": {
          "base_uri": "https://localhost:8080/",
          "height": 35
        },
        "id": "347oUJhayQ8y",
        "outputId": "e09a0089-0939-405a-8596-a16d3a165a53"
      },
      "execution_count": null,
      "outputs": [
        {
          "output_type": "execute_result",
          "data": {
            "text/plain": [
              "'cold'"
            ],
            "application/vnd.google.colaboratory.intrinsic+json": {
              "type": "string"
            }
          },
          "metadata": {},
          "execution_count": 14
        }
      ]
    },
    {
      "cell_type": "code",
      "source": [
        "class car:\n",
        "  window = \"4\"\n",
        "  tyer =\"4\""
      ],
      "metadata": {
        "id": "ftQHntGXzi6m"
      },
      "execution_count": null,
      "outputs": []
    },
    {
      "cell_type": "code",
      "source": [
        "car1 = car\n",
        "type(car1)"
      ],
      "metadata": {
        "colab": {
          "base_uri": "https://localhost:8080/"
        },
        "id": "SRnFaSTKzqRK",
        "outputId": "e4537151-8a07-4dda-e5a9-bcee753800dc"
      },
      "execution_count": null,
      "outputs": [
        {
          "output_type": "execute_result",
          "data": {
            "text/plain": [
              "type"
            ]
          },
          "metadata": {},
          "execution_count": 16
        }
      ]
    },
    {
      "cell_type": "code",
      "source": [
        "car1.window, car1.tyer, car1.tast"
      ],
      "metadata": {
        "id": "bx_kXAg5zx_p"
      },
      "execution_count": null,
      "outputs": []
    },
    {
      "cell_type": "code",
      "source": [
        "class cat:\n",
        "  def __init__(self, name, colour):\n",
        "    self.name = name\n",
        "    self.colour= colour1"
      ],
      "metadata": {
        "id": "c4zRNkiq3RaE"
      },
      "execution_count": null,
      "outputs": []
    },
    {
      "cell_type": "code",
      "source": [
        "x = cat(name=\"tom\", colour='black')\n",
        "print(x.name)\n",
        "print(x.colour)"
      ],
      "metadata": {
        "colab": {
          "base_uri": "https://localhost:8080/"
        },
        "id": "_dIGEnsF36Gs",
        "outputId": "4460ef99-c4b2-4bfe-fd2c-7ddbee7362c9"
      },
      "execution_count": null,
      "outputs": [
        {
          "output_type": "stream",
          "name": "stdout",
          "text": [
            "tom\n",
            "black\n"
          ]
        }
      ]
    },
    {
      "cell_type": "code",
      "source": [
        "type(x)"
      ],
      "metadata": {
        "colab": {
          "base_uri": "https://localhost:8080/"
        },
        "id": "8R6eGaNk4TBE",
        "outputId": "678043b9-dd0f-488e-8e90-74cf7344fca7"
      },
      "execution_count": null,
      "outputs": [
        {
          "output_type": "execute_result",
          "data": {
            "text/plain": [
              "__main__.cat"
            ]
          },
          "metadata": {},
          "execution_count": 30
        }
      ]
    },
    {
      "cell_type": "code",
      "source": [
        "heights =  [172,175,170,168,170,200]"
      ],
      "metadata": {
        "id": "Wx_vtYw14rbn"
      },
      "execution_count": null,
      "outputs": []
    },
    {
      "cell_type": "code",
      "source": [
        "x = sorted(heights)\n",
        "print(x)"
      ],
      "metadata": {
        "colab": {
          "base_uri": "https://localhost:8080/"
        },
        "id": "APEWAwl0ElVB",
        "outputId": "e4235560-9f9c-442d-9831-dd27437efd04"
      },
      "execution_count": null,
      "outputs": [
        {
          "output_type": "stream",
          "name": "stdout",
          "text": [
            "[168, 170, 170, 172, 175, 200]\n"
          ]
        }
      ]
    },
    {
      "cell_type": "code",
      "source": [
        "x = sum(heights)\n",
        "x"
      ],
      "metadata": {
        "colab": {
          "base_uri": "https://localhost:8080/"
        },
        "id": "ceEtRA1FMYWy",
        "outputId": "2ac4c907-c48b-4e37-c6f4-2c24959e0e80"
      },
      "execution_count": null,
      "outputs": [
        {
          "output_type": "execute_result",
          "data": {
            "text/plain": [
              "1055"
            ]
          },
          "metadata": {},
          "execution_count": 9
        }
      ]
    },
    {
      "cell_type": "markdown",
      "source": [
        "# Give a lisy of n list, write a function // Given a list of n lists, write a function which returns the intersection of all the n lists. Each list can have any number of elements."
      ],
      "metadata": {
        "id": "5IQs2MSt9FLC"
      }
    },
    {
      "cell_type": "code",
      "source": [
        "input = [[5, 5, 5, 8, 10],\n",
        "      [5, 5, 7, 8],\n",
        "      [5, 5, 5, 8, 11],\n",
        "      [4, 5, 5, 4, 4, 1]]\n"
      ],
      "metadata": {
        "id": "Ib69d6wMoAdD"
      },
      "execution_count": null,
      "outputs": []
    },
    {
      "cell_type": "code",
      "source": [
        "output = [5, 6, 9, 5]"
      ],
      "metadata": {
        "id": "V62Kok-89g8O"
      },
      "execution_count": null,
      "outputs": []
    },
    {
      "cell_type": "code",
      "source": [
        "num_list = [[5, 5, 5, 8, 10],\n",
        "      [5, 5, 7, 8],\n",
        "      [5, 5, 5, 8, 11]]"
      ],
      "metadata": {
        "id": "ZCFajBSJ9mUq"
      },
      "execution_count": null,
      "outputs": []
    },
    {
      "cell_type": "code",
      "source": [
        "l1 = num_list[0]\n",
        "l2 = num_list[1]"
      ],
      "metadata": {
        "id": "Woizj_KH_Xm1"
      },
      "execution_count": null,
      "outputs": []
    },
    {
      "cell_type": "code",
      "source": [
        "for i in l1:\n",
        "  if i in l2:\n",
        "    print(i)"
      ],
      "metadata": {
        "colab": {
          "base_uri": "https://localhost:8080/"
        },
        "id": "14Ye_EY2_r69",
        "outputId": "09528acd-4d3f-4f39-c338-b7ece124d76f"
      },
      "execution_count": null,
      "outputs": [
        {
          "output_type": "stream",
          "name": "stdout",
          "text": [
            "5\n",
            "5\n",
            "5\n",
            "8\n"
          ]
        }
      ]
    },
    {
      "cell_type": "code",
      "source": [
        "input = [[5, 5, 5, 8, 10],\n",
        "      [5, 7, 8],\n",
        "      [5, 5, 5, 8, 11],\n",
        "      [4, 5, 5, 4, 4, 1]]"
      ],
      "metadata": {
        "id": "IdTKN8COAKSw"
      },
      "execution_count": null,
      "outputs": []
    },
    {
      "cell_type": "code",
      "source": [
        "l3 = input[0]\n",
        "l4 = input[1]"
      ],
      "metadata": {
        "id": "kYthTK1lAL7M"
      },
      "execution_count": null,
      "outputs": []
    },
    {
      "cell_type": "code",
      "source": [
        "for i in l3:\n",
        "  if i in l4:\n",
        "    print(i)"
      ],
      "metadata": {
        "colab": {
          "base_uri": "https://localhost:8080/"
        },
        "id": "TnyEr3y2AT9r",
        "outputId": "a4a9d28a-23c9-4c90-fe08-bd727ae3e062"
      },
      "execution_count": null,
      "outputs": [
        {
          "output_type": "stream",
          "name": "stdout",
          "text": [
            "5\n",
            "5\n",
            "5\n",
            "8\n"
          ]
        }
      ]
    },
    {
      "cell_type": "code",
      "source": [
        "l2_copy = l2.copy"
      ],
      "metadata": {
        "id": "kTuhIo15An-_"
      },
      "execution_count": null,
      "outputs": []
    },
    {
      "cell_type": "code",
      "source": [
        "for i in l1:\n",
        "  if i in l2:\n",
        "    print(i)\n",
        "    l2_copy = l2.remove(i)"
      ],
      "metadata": {
        "colab": {
          "base_uri": "https://localhost:8080/"
        },
        "id": "HKDq79OjAtI8",
        "outputId": "0caedb82-6ec1-4ced-a09d-cc4579c3156a"
      },
      "execution_count": null,
      "outputs": [
        {
          "output_type": "stream",
          "name": "stdout",
          "text": [
            "5\n",
            "5\n",
            "8\n"
          ]
        }
      ]
    },
    {
      "cell_type": "code",
      "source": [
        "input1 = [[5, 5, 5, 8, 10],\n",
        "          [5, 7, 8],\n",
        "          [5, 5, 8, 9, 11]]"
      ],
      "metadata": {
        "id": "RY2wM8SiCPS4"
      },
      "execution_count": null,
      "outputs": []
    },
    {
      "cell_type": "code",
      "source": [
        "l1 = input1[0]\n",
        "l2 = input1[1]\n",
        "l2_copy = l2.copy()\n",
        "\n",
        "common_list = []\n",
        "for i in l1:\n",
        "  if i in l2_copy:\n",
        "    l2_copy.remove(i)\n",
        "    common_list.append(i)\n",
        "\n",
        "print(common_list)\n"
      ],
      "metadata": {
        "colab": {
          "base_uri": "https://localhost:8080/"
        },
        "id": "777nAdIcBsu1",
        "outputId": "42580375-0e27-4ae2-95c2-eea89505ee73"
      },
      "execution_count": null,
      "outputs": [
        {
          "output_type": "stream",
          "name": "stdout",
          "text": [
            "[5, 8]\n"
          ]
        }
      ]
    },
    {
      "cell_type": "code",
      "source": [
        "l1 = input1[0]\n",
        "l2 = input1[1]\n",
        "print(12)\n",
        "\n",
        "common_list = []\n",
        "for i in l1:\n",
        "  if i in l2:\n",
        "    l2.remove(i)\n",
        "    common_list.append(i)\n",
        "\n",
        "print(common_list)"
      ],
      "metadata": {
        "colab": {
          "base_uri": "https://localhost:8080/"
        },
        "id": "DIFKjmXACfcg",
        "outputId": "6402b125-ea82-4b23-b41d-777c115189eb"
      },
      "execution_count": null,
      "outputs": [
        {
          "output_type": "stream",
          "name": "stdout",
          "text": [
            "12\n",
            "[5, 8]\n"
          ]
        }
      ]
    },
    {
      "cell_type": "code",
      "source": [
        "def get_common_element(l1, l2):\n",
        "    l2_copy = l2.copy()\n",
        "\n",
        "    common_list = []\n",
        "    for i in l1:\n",
        "      if i in l2_copy:\n",
        "        l2_copy.remove(i)\n",
        "        common_list.append(i)\n",
        "\n",
        "    return common_list"
      ],
      "metadata": {
        "id": "9y_VGZIKDFHX"
      },
      "execution_count": null,
      "outputs": []
    },
    {
      "cell_type": "code",
      "source": [
        "input2 = [[5, 5, 5, 8, 10],\n",
        "          [5, 9, 5, 7, 8],\n",
        "          [5, 5, 8, 9, 11]]"
      ],
      "metadata": {
        "id": "DLHXnUzHEG1Y"
      },
      "execution_count": null,
      "outputs": []
    },
    {
      "cell_type": "code",
      "source": [
        "list1 = input2[0]\n",
        "list2 = input2[1]\n",
        "\n",
        "get_common_element(list1, list2)"
      ],
      "metadata": {
        "colab": {
          "base_uri": "https://localhost:8080/"
        },
        "id": "c2qE2e8fDcXk",
        "outputId": "df5e2d95-b740-4f1a-fa2e-8a277bd43426"
      },
      "execution_count": null,
      "outputs": [
        {
          "output_type": "execute_result",
          "data": {
            "text/plain": [
              "[5, 5, 8]"
            ]
          },
          "metadata": {},
          "execution_count": 37
        }
      ]
    },
    {
      "cell_type": "code",
      "source": [
        "input3 = [[5, 5, 5, 8, 10],\n",
        "          [5, 7, 8],\n",
        "          [5, 5, 8, 9, 11]]"
      ],
      "metadata": {
        "id": "l0yg-Wf3E0sE"
      },
      "execution_count": null,
      "outputs": []
    },
    {
      "cell_type": "code",
      "source": [
        "list1 = input3[0]\n",
        "list2 = input3[1]\n",
        "\n",
        "c_list = get_common_element(list1, list2)\n",
        "\n",
        "for list_ in input2[2:]:\n",
        "  print(list_)"
      ],
      "metadata": {
        "colab": {
          "base_uri": "https://localhost:8080/"
        },
        "id": "sVzMRiAOEWwA",
        "outputId": "38cf97a9-c1fa-4405-eb31-bf092b100ef6"
      },
      "execution_count": null,
      "outputs": [
        {
          "output_type": "stream",
          "name": "stdout",
          "text": [
            "[5, 5, 8, 9, 11]\n"
          ]
        }
      ]
    },
    {
      "cell_type": "code",
      "source": [
        "c_list"
      ],
      "metadata": {
        "colab": {
          "base_uri": "https://localhost:8080/"
        },
        "id": "F98GK0hDE5cn",
        "outputId": "a0e8e9bf-70a0-4ea7-ce25-b71177179ef4"
      },
      "execution_count": null,
      "outputs": [
        {
          "output_type": "execute_result",
          "data": {
            "text/plain": [
              "[5, 8]"
            ]
          },
          "metadata": {},
          "execution_count": 45
        }
      ]
    },
    {
      "cell_type": "code",
      "source": [],
      "metadata": {
        "id": "0_VcBbpVRI5S"
      },
      "execution_count": null,
      "outputs": []
    },
    {
      "cell_type": "markdown",
      "source": [
        "dict"
      ],
      "metadata": {
        "id": "oITcAaLaSLFk"
      }
    },
    {
      "cell_type": "code",
      "source": [
        "info = {\n",
        "    'name': 'Kushang',\n",
        "    'age': 21,\n",
        "    'skill': 'Bhootiya'\n",
        "}"
      ],
      "metadata": {
        "id": "qKFdu_3nRJgU"
      },
      "execution_count": null,
      "outputs": []
    },
    {
      "cell_type": "code",
      "source": [
        "info['skill']"
      ],
      "metadata": {
        "colab": {
          "base_uri": "https://localhost:8080/",
          "height": 35
        },
        "id": "y3HyyBEaRW22",
        "outputId": "20518d14-8c5b-4a49-ea82-6e67babfce0e"
      },
      "execution_count": null,
      "outputs": [
        {
          "output_type": "execute_result",
          "data": {
            "text/plain": [
              "'Bhootiya'"
            ],
            "application/vnd.google.colaboratory.intrinsic+json": {
              "type": "string"
            }
          },
          "metadata": {},
          "execution_count": 5
        }
      ]
    },
    {
      "cell_type": "code",
      "source": [
        "type(info)"
      ],
      "metadata": {
        "colab": {
          "base_uri": "https://localhost:8080/"
        },
        "id": "rJyF3F9-RfRr",
        "outputId": "5528d4bf-324d-4773-8839-44e5f0872289"
      },
      "execution_count": null,
      "outputs": [
        {
          "output_type": "execute_result",
          "data": {
            "text/plain": [
              "dict"
            ]
          },
          "metadata": {},
          "execution_count": 6
        }
      ]
    },
    {
      "cell_type": "code",
      "source": [
        "len(info)"
      ],
      "metadata": {
        "colab": {
          "base_uri": "https://localhost:8080/"
        },
        "id": "UuCMLjguRo52",
        "outputId": "aceb6ae2-340a-417d-8d57-c420bc01aea1"
      },
      "execution_count": null,
      "outputs": [
        {
          "output_type": "execute_result",
          "data": {
            "text/plain": [
              "3"
            ]
          },
          "metadata": {},
          "execution_count": 7
        }
      ]
    },
    {
      "cell_type": "code",
      "source": [
        "max(info)"
      ],
      "metadata": {
        "colab": {
          "base_uri": "https://localhost:8080/",
          "height": 35
        },
        "id": "q0q3VFNHRrLx",
        "outputId": "52e0b9c4-8b92-4c95-9373-2ce951cfdc9a"
      },
      "execution_count": null,
      "outputs": [
        {
          "output_type": "execute_result",
          "data": {
            "text/plain": [
              "'skill'"
            ],
            "application/vnd.google.colaboratory.intrinsic+json": {
              "type": "string"
            }
          },
          "metadata": {},
          "execution_count": 9
        }
      ]
    },
    {
      "cell_type": "code",
      "source": [
        "info['name']"
      ],
      "metadata": {
        "colab": {
          "base_uri": "https://localhost:8080/",
          "height": 35
        },
        "id": "jW6ZdLpeRvf5",
        "outputId": "b3335b49-e5f2-4742-ad4a-cfa985f1e39e"
      },
      "execution_count": null,
      "outputs": [
        {
          "output_type": "execute_result",
          "data": {
            "text/plain": [
              "'Kushang'"
            ],
            "application/vnd.google.colaboratory.intrinsic+json": {
              "type": "string"
            }
          },
          "metadata": {},
          "execution_count": 13
        }
      ]
    },
    {
      "cell_type": "code",
      "source": [
        "tuple(info.keys())"
      ],
      "metadata": {
        "colab": {
          "base_uri": "https://localhost:8080/"
        },
        "id": "r9Rq8BsnR8uB",
        "outputId": "c2a1c4cd-8f88-4879-f256-e45700ef471b"
      },
      "execution_count": null,
      "outputs": [
        {
          "output_type": "execute_result",
          "data": {
            "text/plain": [
              "('name', 'age', 'skill')"
            ]
          },
          "metadata": {},
          "execution_count": 18
        }
      ]
    },
    {
      "cell_type": "code",
      "source": [
        "list(info.keys())"
      ],
      "metadata": {
        "colab": {
          "base_uri": "https://localhost:8080/"
        },
        "id": "7H5kS3z6SGPc",
        "outputId": "88377b36-fea8-426d-f3f5-b10958ab8b59"
      },
      "execution_count": null,
      "outputs": [
        {
          "output_type": "execute_result",
          "data": {
            "text/plain": [
              "['name', 'age', 'skill']"
            ]
          },
          "metadata": {},
          "execution_count": 19
        }
      ]
    },
    {
      "cell_type": "code",
      "source": [],
      "metadata": {
        "id": "MDUcONhlSM-5"
      },
      "execution_count": null,
      "outputs": []
    },
    {
      "cell_type": "markdown",
      "source": [
        "# While loops:-"
      ],
      "metadata": {
        "id": "IdXmcIvtJYNv"
      }
    },
    {
      "cell_type": "code",
      "source": [
        "# while loop function\n",
        "\n",
        "a = 0\n",
        "\n",
        "while a < 10:\n",
        "  print('printing', a)\n",
        "  a = a + 1\n"
      ],
      "metadata": {
        "colab": {
          "base_uri": "https://localhost:8080/"
        },
        "id": "ttYDM_TcJ-NT",
        "outputId": "bf411ede-58d1-4523-e3ed-cd579080d803"
      },
      "execution_count": null,
      "outputs": [
        {
          "output_type": "stream",
          "name": "stdout",
          "text": [
            "printing 0\n",
            "printing 1\n",
            "printing 2\n",
            "printing 3\n",
            "printing 4\n",
            "printing 5\n",
            "printing 6\n",
            "printing 7\n",
            "printing 8\n",
            "printing 9\n"
          ]
        }
      ]
    },
    {
      "cell_type": "code",
      "source": [
        "a = 0\n",
        "\n",
        "while a < 10:\n",
        "  print(a)\n",
        "\n",
        "  a = a+1\n",
        "  # . . .\n",
        "\n",
        "  if a == 5:\n",
        "    print('a == 5')\n",
        "    break\n",
        "\n",
        "  else:\n",
        "    print('continuing...')\n",
        "    continue"
      ],
      "metadata": {
        "colab": {
          "base_uri": "https://localhost:8080/"
        },
        "id": "3YgLmVkuZWG9",
        "outputId": "d4e72e51-fb88-4da7-fb70-c7b197760763"
      },
      "execution_count": null,
      "outputs": [
        {
          "output_type": "stream",
          "name": "stdout",
          "text": [
            "0\n",
            "continuing...\n",
            "1\n",
            "continuing...\n",
            "2\n",
            "continuing...\n",
            "3\n",
            "continuing...\n",
            "4\n",
            "a == 5\n"
          ]
        }
      ]
    }
  ]
}