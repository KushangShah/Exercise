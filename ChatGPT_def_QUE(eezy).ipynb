{
  "nbformat": 4,
  "nbformat_minor": 0,
  "metadata": {
    "colab": {
      "provenance": [],
      "authorship_tag": "ABX9TyMOUlRpnwVMwzbk6FOSb5pD",
      "include_colab_link": true
    },
    "kernelspec": {
      "name": "python3",
      "display_name": "Python 3"
    },
    "language_info": {
      "name": "python"
    }
  },
  "cells": [
    {
      "cell_type": "markdown",
      "metadata": {
        "id": "view-in-github",
        "colab_type": "text"
      },
      "source": [
        "<a href=\"https://colab.research.google.com/github/KushangShah/Exercise/blob/main/ChatGPT_def_QUE(eezy).ipynb\" target=\"_parent\"><img src=\"https://colab.research.google.com/assets/colab-badge.svg\" alt=\"Open In Colab\"/></a>"
      ]
    },
    {
      "cell_type": "markdown",
      "source": [
        "# I asked Chatgpt to give me some question of Python on def. "
      ],
      "metadata": {
        "id": "eQWMylUZcmCI"
      }
    },
    {
      "cell_type": "markdown",
      "source": [
        "These are the questions ChatGPT gave me:\n",
        "\n",
        "    1) Write a Python function to calculate the area of a circle, given its radius.\n",
        "    2) Write a Python function to calculate the factorial of a given number.\n",
        "    3) Write a Python function to check if a given number is prime or not.\n",
        "    4) Write a Python function to reverse a string.\n",
        "    5) Write a Python function to check if a given string is a palindrome or not.\n",
        "    6) Write a Python function to count the number of vowels in a given string.\n",
        "    7) Write a Python function to find the largest element in a list.\n",
        "    8) Write a Python function to remove all duplicates from a list.\n",
        "    9) Write a Python function to sort a list of numbers in ascending order.\n",
        "    10) Write a Python function to check if two given strings are anagrams or not."
      ],
      "metadata": {
        "id": "hP67O2yNc1j6"
      }
    },
    {
      "cell_type": "markdown",
      "source": [
        "Let's start with importing the math module first."
      ],
      "metadata": {
        "id": "JD3SD_7AkG1H"
      }
    },
    {
      "cell_type": "code",
      "source": [
        "#importing the math module\n",
        "\n",
        "import math as m"
      ],
      "metadata": {
        "id": "-CFkV4Sjj7YX"
      },
      "execution_count": 1,
      "outputs": []
    },
    {
      "cell_type": "markdown",
      "source": [
        "# 1) Write a Python function to calculate the area of a circle, given its radius."
      ],
      "metadata": {
        "id": "HFQJmn0_dYIb"
      }
    },
    {
      "cell_type": "markdown",
      "source": [
        "I know that much that a circle has something to do with pi, which is constant. So, i'll use math module for pi."
      ],
      "metadata": {
        "id": "erjlkkZZdfKJ"
      }
    },
    {
      "cell_type": "code",
      "source": [
        "# Using def condition\n",
        "def area_of_circle(radius):\n",
        "  area = m.pi*radius**2\n",
        "  return area  "
      ],
      "metadata": {
        "id": "3-y1B_3Jf2X9"
      },
      "execution_count": 2,
      "outputs": []
    },
    {
      "cell_type": "code",
      "source": [
        "area_of_circle(9)"
      ],
      "metadata": {
        "colab": {
          "base_uri": "https://localhost:8080/"
        },
        "id": "WWDUWD1MgYK1",
        "outputId": "ee1a43f5-fc14-4592-e960-42ea3463b696"
      },
      "execution_count": 3,
      "outputs": [
        {
          "output_type": "execute_result",
          "data": {
            "text/plain": [
              "254.46900494077323"
            ]
          },
          "metadata": {},
          "execution_count": 3
        }
      ]
    },
    {
      "cell_type": "markdown",
      "source": [
        "Alternative way to write it."
      ],
      "metadata": {
        "id": "LxNPTcORhtlX"
      }
    },
    {
      "cell_type": "code",
      "execution_count": 4,
      "metadata": {
        "colab": {
          "base_uri": "https://localhost:8080/"
        },
        "id": "2gMR0hDWcbd3",
        "outputId": "6150037d-e53d-42de-fc00-27c4627de370"
      },
      "outputs": [
        {
          "output_type": "stream",
          "name": "stdout",
          "text": [
            "Enter the Radius of circle here: 9\n",
            "254.46900494077323\n"
          ]
        }
      ],
      "source": [
        "# using input so user can enter the radius value.\n",
        "radius = eval(input(\"Enter the Radius of circle here: \"))\n",
        "\n",
        "area_of_circle = m.pi*radius**2\n",
        "\n",
        "print(area_of_circle)"
      ]
    },
    {
      "cell_type": "markdown",
      "source": [
        "# 2) Write a Python function to calculate the factorial of a given number."
      ],
      "metadata": {
        "id": "W5PZTT2gh7fs"
      }
    },
    {
      "cell_type": "code",
      "source": [
        "# math module is already imported so.. I'll start with def.\n",
        "def factorial(num):\n",
        "  fact = m.factorial(num)\n",
        "  return fact"
      ],
      "metadata": {
        "id": "pBH4dXJIh-0Z"
      },
      "execution_count": 5,
      "outputs": []
    },
    {
      "cell_type": "code",
      "source": [
        "# Test the above code\n",
        "value = int(input(\"Enter the number to cal. the factorial: \"))\n",
        "f = factorial(value)\n",
        "print(\"Factorial number of\", value, \"is\", f)"
      ],
      "metadata": {
        "colab": {
          "base_uri": "https://localhost:8080/"
        },
        "id": "Cd5dmMtokc7F",
        "outputId": "3264caf6-0c38-4bc4-af71-dacd1f6754b8"
      },
      "execution_count": 6,
      "outputs": [
        {
          "output_type": "stream",
          "name": "stdout",
          "text": [
            "Enter the number to cal. the factorial: 6\n",
            "Factorial number of 6 is 720\n"
          ]
        }
      ]
    },
    {
      "cell_type": "markdown",
      "source": [
        "# 3) Write a Python function to check if a given number is prime or not."
      ],
      "metadata": {
        "id": "Xo3fw2KXlaiA"
      }
    },
    {
      "cell_type": "markdown",
      "source": [
        "So, a whole number greater than 1 that cannot be exactly divided by any whole number other than itself and 1 \n",
        "\n",
        "\n",
        "  (e.g. 2, 3, 5, 7, 11).\n",
        "\n",
        "\n",
        "\n"
      ],
      "metadata": {
        "id": "IstvFCbqmamE"
      }
    },
    {
      "cell_type": "code",
      "source": [
        "n = int(input())\n",
        "# if prime number is greater than 1\n",
        "if n > 1:\n",
        "\n",
        "  for i in range(2, int(n**0.5)+1):\n",
        "    if n%i == 0:\n",
        "      print(n, \"is not a Prime number.\")\n",
        "    break\n",
        "    \n",
        "  else:\n",
        "    print(n, \"Is a Prime number.\")\n",
        "# is given number is less than 1 or not even a number. it is not a prime number.\n",
        "else:\n",
        "  print(n, \"is not a prime number.\")\n",
        "\n",
        "# Some mistake in this code, better fix it and understand it."
      ],
      "metadata": {
        "colab": {
          "base_uri": "https://localhost:8080/"
        },
        "id": "TBzZIdO1ldi7",
        "outputId": "f5d5c6e1-a8cd-48bc-b702-bfe966006651"
      },
      "execution_count": 7,
      "outputs": [
        {
          "output_type": "stream",
          "name": "stdout",
          "text": [
            "6\n",
            "6 is not a Prime number.\n"
          ]
        }
      ]
    },
    {
      "cell_type": "markdown",
      "source": [
        "now, using def to define weather the given input is prime or not."
      ],
      "metadata": {
        "id": "0kvaMZWgsowH"
      }
    },
    {
      "cell_type": "code",
      "source": [
        "# defing the code\n",
        "def prime(n):\n",
        "  # 1 is not a prime number, nor negative number.\n",
        "  if n <= 1:\n",
        "    return (n, \"is Not a prime number.\")\n",
        "# if given input is more than 1 \n",
        "  else:\n",
        "    for i in range(2, int(n**0.5) + 1):\n",
        "      # given value reminder come as 0\n",
        "      if n % i == 0:\n",
        "        return (n, \"is Not a prime number.\")\n",
        "# and if the reminder is not 0\n",
        "      return (n, \"is a prime number.\")"
      ],
      "metadata": {
        "id": "g86aStetq061"
      },
      "execution_count": 8,
      "outputs": []
    },
    {
      "cell_type": "code",
      "source": [
        "# check if above code works or not\n",
        "\n",
        "num = int(input(\"Enter the Prime number: \"))\n",
        "p = prime(num)\n",
        "print(p)"
      ],
      "metadata": {
        "colab": {
          "base_uri": "https://localhost:8080/"
        },
        "id": "JQ9tONVHqG8T",
        "outputId": "5bf9ade9-bcce-4766-eb88-6cf14acace82"
      },
      "execution_count": 9,
      "outputs": [
        {
          "output_type": "stream",
          "name": "stdout",
          "text": [
            "Enter the Prime number: 8\n",
            "(8, 'is Not a prime number.')\n"
          ]
        }
      ]
    },
    {
      "cell_type": "markdown",
      "source": [
        "# 4) Write a Python function to reverse a string."
      ],
      "metadata": {
        "id": "OKC4gjs5sa5_"
      }
    },
    {
      "cell_type": "code",
      "source": [
        "# first check how does the reverse work\n",
        "name = input()\n",
        "rev = name[::-1]\n",
        "print(rev)"
      ],
      "metadata": {
        "colab": {
          "base_uri": "https://localhost:8080/"
        },
        "id": "7KHWzFZWsaKj",
        "outputId": "b5588d0e-1ea9-4a16-f415-e7e4ebfe8832"
      },
      "execution_count": 10,
      "outputs": [
        {
          "output_type": "stream",
          "name": "stdout",
          "text": [
            "kushang\n",
            "gnahsuk\n"
          ]
        }
      ]
    },
    {
      "cell_type": "code",
      "source": [
        "# define the code.\n",
        "\n",
        "def rev(word):\n",
        "  stri = word[::-1]\n",
        "  return stri"
      ],
      "metadata": {
        "id": "yF4K9qzMtOQ-"
      },
      "execution_count": 11,
      "outputs": []
    },
    {
      "cell_type": "code",
      "source": [
        "# check the above code\n",
        "\n",
        "w = input(\"Enter a sentence or a word: \")\n",
        "r = rev(w)\n",
        "print(r)"
      ],
      "metadata": {
        "colab": {
          "base_uri": "https://localhost:8080/"
        },
        "id": "eX5H9nbIunvZ",
        "outputId": "9cf29fd1-c334-4e0b-d547-d9ed5d3ade15"
      },
      "execution_count": 12,
      "outputs": [
        {
          "output_type": "stream",
          "name": "stdout",
          "text": [
            "Enter a sentence or a word: kushangshah\n",
            "hahsgnahsuk\n"
          ]
        }
      ]
    },
    {
      "cell_type": "markdown",
      "source": [
        "# 5) Write a Python function to check if a given string is a palindrome or not."
      ],
      "metadata": {
        "id": "H9nqRVTA5wQY"
      }
    },
    {
      "cell_type": "markdown",
      "source": [
        "Either you read it from front or back the word will appear same, with meaning and spelling.\n",
        "e.g, mom, tot, lil, etc.\n"
      ],
      "metadata": {
        "id": "C9WV0T8E6KwP"
      }
    },
    {
      "cell_type": "code",
      "source": [
        "# using index to check if it works or not.\n",
        "\n",
        "word = input()\n",
        "pal = word[::-1]\n",
        "print(pal)"
      ],
      "metadata": {
        "id": "O-5vwOYc5wnk",
        "colab": {
          "base_uri": "https://localhost:8080/"
        },
        "outputId": "bb224cd0-efb0-4251-e3fe-35e4525bd27f"
      },
      "execution_count": 13,
      "outputs": [
        {
          "output_type": "stream",
          "name": "stdout",
          "text": [
            "mom\n",
            "mom\n"
          ]
        }
      ]
    },
    {
      "cell_type": "code",
      "source": [
        "# define the code for palindrome\n",
        "def palindrome(stri):\n",
        "  char = stri[::-1]\n",
        "  if stri == char:\n",
        "    return (\"It is Palindrome\")\n",
        "\n",
        "  else:\n",
        "    return (\"It is not a Palindrome\")"
      ],
      "metadata": {
        "id": "8abnn_FZN2o5"
      },
      "execution_count": 14,
      "outputs": []
    },
    {
      "cell_type": "code",
      "source": [
        "# Check the code\n",
        "word = input(\"Enter the word/charater to chack palindrome: \")\n",
        "p = palindrome(word)\n",
        "print(p)"
      ],
      "metadata": {
        "colab": {
          "base_uri": "https://localhost:8080/"
        },
        "id": "-D5WSGCNOYa1",
        "outputId": "9b0d35d6-17bd-4528-b08d-4343d4e97f90"
      },
      "execution_count": 15,
      "outputs": [
        {
          "output_type": "stream",
          "name": "stdout",
          "text": [
            "Enter the word/charater to chack palindrome: madam\n",
            "It is Palindrome\n"
          ]
        }
      ]
    },
    {
      "cell_type": "markdown",
      "source": [
        "# 6) Write a Python function to count the number of vowels in a given string."
      ],
      "metadata": {
        "id": "KeSIfhydRtLw"
      }
    },
    {
      "cell_type": "code",
      "source": [
        "# make a list of vowel\n",
        "list1 = ['A', 'E', 'I', 'O', 'U', 'a', 'e', 'i', 'o', 'u']\n",
        "\n",
        "def vowels(stri):\n",
        "  if stri in list1:\n",
        "    return (\"It is a vowel.\")\n",
        "  \n",
        "  else:\n",
        "    return (\"It is not a vowel.\")"
      ],
      "metadata": {
        "id": "bczowECcRvB3"
      },
      "execution_count": 16,
      "outputs": []
    },
    {
      "cell_type": "code",
      "source": [
        "word = str(input())\n",
        "v = vowels(word)\n",
        "print(v)"
      ],
      "metadata": {
        "colab": {
          "base_uri": "https://localhost:8080/"
        },
        "id": "8HkQJ3XVSnOw",
        "outputId": "f395e978-920f-4ac2-c8d1-b001fc484887"
      },
      "execution_count": 17,
      "outputs": [
        {
          "output_type": "stream",
          "name": "stdout",
          "text": [
            "e\n",
            "It is a vowel.\n"
          ]
        }
      ]
    },
    {
      "cell_type": "markdown",
      "source": [
        "# 7) Write a Python function to find the largest element in a list."
      ],
      "metadata": {
        "id": "tsm_6CTTTdSy"
      }
    },
    {
      "cell_type": "markdown",
      "source": [
        "By element i think chatgpt mean numbers, cause it will be hard in letters."
      ],
      "metadata": {
        "id": "cThy0iD0UN5u"
      }
    },
    {
      "cell_type": "code",
      "source": [
        "# defining the fuction\n",
        "\n",
        "def largest(char):\n",
        "  larg = char[0]\n",
        "\n",
        "  for i in range(1, len(char)):\n",
        "\n",
        "    if char[i] >= larg:\n",
        "      larg = char[i]\n",
        "\n",
        "    return larg"
      ],
      "metadata": {
        "id": "F9NAFMx-TfDZ"
      },
      "execution_count": 18,
      "outputs": []
    },
    {
      "cell_type": "code",
      "source": [
        "wo = ['3', '9', '5', '3', '7', '4']  #list(input(\"Enter the list of numbers: \"))\n",
        "\n",
        "la = largest(wo)\n",
        "print(la)"
      ],
      "metadata": {
        "colab": {
          "base_uri": "https://localhost:8080/"
        },
        "id": "d66iI2jsWmUV",
        "outputId": "ba55ea70-d584-4e66-b7a5-a326e7d8bcfe"
      },
      "execution_count": 19,
      "outputs": [
        {
          "output_type": "stream",
          "name": "stdout",
          "text": [
            "9\n"
          ]
        }
      ]
    },
    {
      "cell_type": "markdown",
      "source": [
        "Two ways to define the def fuction in which both works on a makeup list and not in the user taken input. \n",
        "the code is not a universal for now."
      ],
      "metadata": {
        "id": "BLuINv1iajuT"
      }
    },
    {
      "cell_type": "code",
      "source": [
        "def larg_element(char1):\n",
        "  larg1 = None\n",
        "\n",
        "  for i in char1:\n",
        "    if larg1 is None or i > larg1:\n",
        "      larg1 = i\n",
        "\n",
        "    return larg1"
      ],
      "metadata": {
        "id": "igu5pyZqXgrV"
      },
      "execution_count": 20,
      "outputs": []
    },
    {
      "cell_type": "code",
      "source": [
        "wor = list(input(\"Enter the list of numbers: \"))\n",
        "\n",
        "lar = largest(wor)\n",
        "print(lar)"
      ],
      "metadata": {
        "colab": {
          "base_uri": "https://localhost:8080/"
        },
        "id": "iB2YzHzfaSXY",
        "outputId": "0a88e0a0-abb1-41a4-a938-cf79edae333e"
      },
      "execution_count": 21,
      "outputs": [
        {
          "output_type": "stream",
          "name": "stdout",
          "text": [
            "Enter the list of numbers: 12439537\n",
            "2\n"
          ]
        }
      ]
    },
    {
      "cell_type": "markdown",
      "source": [
        "# 8) Write a Python function to remove all duplicates from a list."
      ],
      "metadata": {
        "id": "Za4QBY1X_DF2"
      }
    },
    {
      "cell_type": "code",
      "source": [
        "def rem_duplicate(lst):\n",
        "  return list(set(lst))\n",
        "\n",
        "sen = input()\n",
        "rd = rem_duplicate(sen)\n",
        "print(rd)"
      ],
      "metadata": {
        "colab": {
          "base_uri": "https://localhost:8080/"
        },
        "id": "QQu28vS3_CfR",
        "outputId": "c7506872-ea69-4267-8350-cc642cbb1947"
      },
      "execution_count": 22,
      "outputs": [
        {
          "output_type": "stream",
          "name": "stdout",
          "text": [
            "kushang shah \n",
            "['h', 'k', ' ', 'u', 'g', 'a', 's', 'n']\n"
          ]
        }
      ]
    },
    {
      "cell_type": "markdown",
      "source": [
        "# 9) Write a Python function to sort a list of numbers in ascending order."
      ],
      "metadata": {
        "id": "9L0LMALtAAEG"
      }
    },
    {
      "cell_type": "code",
      "source": [
        "# define a code below\n",
        "def ascend(num):\n",
        "  return sorted(num)\n",
        "#print the first ascend value\n",
        "lst = input()\n",
        "acd = ascend(lst)\n",
        "print(\"Value get ascend here: \", acd)\n",
        "\n",
        "'''\n",
        "this part is for fun where the. user given data \n",
        "get soorted after ascend and will again get \n",
        "ascend to that sorted value.\n",
        "'''\n",
        "\n",
        "rd = rem_duplicate(acd)\n",
        "print(\"Value get sorted here: \", rd)\n",
        "\n",
        "ee = ascend(rd)\n",
        "print(\"The above sorted value gets ascend here: \", ee)"
      ],
      "metadata": {
        "colab": {
          "base_uri": "https://localhost:8080/"
        },
        "id": "KFyi9pEpABEu",
        "outputId": "2a7b97d2-ad2f-417b-cad0-b2beeb25954f"
      },
      "execution_count": 29,
      "outputs": [
        {
          "output_type": "stream",
          "name": "stdout",
          "text": [
            "9726745523\n",
            "Value get ascend here:  ['2', '2', '3', '4', '5', '5', '6', '7', '7', '9']\n",
            "Value get sorted here:  ['2', '9', '5', '7', '6', '3', '4']\n",
            "The above sorted value gets ascend here:  ['2', '3', '4', '5', '6', '7', '9']\n"
          ]
        }
      ]
    },
    {
      "cell_type": "markdown",
      "source": [
        "# 10) Write a Python function to check if two given strings are anagrams or not."
      ],
      "metadata": {
        "id": "W7h0ugoHCgkw"
      }
    },
    {
      "cell_type": "markdown",
      "source": [
        "a word, phrase, or name formed by rearranging the letters of another, such as spar, formed from rasp."
      ],
      "metadata": {
        "id": "DPc-QFufC32K"
      }
    },
    {
      "cell_type": "code",
      "source": [
        "from IPython.core.interactiveshell import check_linecache_ipython\n",
        "'''\n",
        "use sorted function to sort two different letters \n",
        "and check if weather they match with each other or not.\n",
        "'''\n",
        "\n",
        "#using def condition\n",
        "def anagrams(strg1, strg2):\n",
        "  if sorted(strg1) == sorted(strg2) :\n",
        "    return (\"It is Anagram.\")\n",
        "\n",
        "  else:\n",
        "    return (\"it is 'NOT' Anagram.\")  \n",
        "\n",
        "first_letter = str(input(\"Write the first word for anagram: \"))\n",
        "second_letter = str(input(\"Write the second word for anagram: \"))\n",
        "check_anagram = anagrams(first_letter, second_letter)\n",
        "print(check_anagram)"
      ],
      "metadata": {
        "colab": {
          "base_uri": "https://localhost:8080/"
        },
        "id": "tQp0R-bsCiXd",
        "outputId": "9fb3da71-1a04-4821-bcc6-c4d18dcfbd51"
      },
      "execution_count": 32,
      "outputs": [
        {
          "output_type": "stream",
          "name": "stdout",
          "text": [
            "Write the first word for anagram: listen\n",
            "Write the second word for anagram: enislt\n",
            "It is Anagram.\n"
          ]
        }
      ]
    }
  ]
}