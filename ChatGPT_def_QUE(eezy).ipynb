{
  "nbformat": 4,
  "nbformat_minor": 0,
  "metadata": {
    "colab": {
      "provenance": [],
      "authorship_tag": "ABX9TyMlMDODu/LrQf/1SVi21zms",
      "include_colab_link": true
    },
    "kernelspec": {
      "name": "python3",
      "display_name": "Python 3"
    },
    "language_info": {
      "name": "python"
    }
  },
  "cells": [
    {
      "cell_type": "markdown",
      "metadata": {
        "id": "view-in-github",
        "colab_type": "text"
      },
      "source": [
        "<a href=\"https://colab.research.google.com/github/KushangShah/Exercise/blob/main/ChatGPT_def_QUE(eezy).ipynb\" target=\"_parent\"><img src=\"https://colab.research.google.com/assets/colab-badge.svg\" alt=\"Open In Colab\"/></a>"
      ]
    },
    {
      "cell_type": "markdown",
      "source": [
        "# I asked Chatgpt to give me some question of Python on def. "
      ],
      "metadata": {
        "id": "eQWMylUZcmCI"
      }
    },
    {
      "cell_type": "markdown",
      "source": [
        "These are the questions ChatGPT gave me:\n",
        "\n",
        "    1) Write a Python function to calculate the area of a circle, given its radius.\n",
        "    2) Write a Python function to calculate the factorial of a given number.\n",
        "    3) Write a Python function to check if a given number is prime or not.\n",
        "    4) Write a Python function to reverse a string.\n",
        "    5) Write a Python function to check if a given string is a palindrome or not.\n",
        "    6) Write a Python function to count the number of vowels in a given string.\n",
        "    7) Write a Python function to find the largest element in a list.\n",
        "    8) Write a Python function to remove all duplicates from a list.\n",
        "    9) Write a Python function to sort a list of numbers in ascending order.\n",
        "    10) Write a Python function to check if two given strings are anagrams or not."
      ],
      "metadata": {
        "id": "hP67O2yNc1j6"
      }
    },
    {
      "cell_type": "markdown",
      "source": [
        "Let's start with importing the math module first."
      ],
      "metadata": {
        "id": "JD3SD_7AkG1H"
      }
    },
    {
      "cell_type": "code",
      "source": [
        "#importing the math module\n",
        "\n",
        "import math as m"
      ],
      "metadata": {
        "id": "-CFkV4Sjj7YX"
      },
      "execution_count": null,
      "outputs": []
    },
    {
      "cell_type": "markdown",
      "source": [
        "# 1) Write a Python function to calculate the area of a circle, given its radius."
      ],
      "metadata": {
        "id": "HFQJmn0_dYIb"
      }
    },
    {
      "cell_type": "markdown",
      "source": [
        "I know that much that a circle has something to do with pi, which is constant. So, i'll use math module for pi."
      ],
      "metadata": {
        "id": "erjlkkZZdfKJ"
      }
    },
    {
      "cell_type": "code",
      "source": [
        "# Using def condition\n",
        "def area_of_circle(radius):\n",
        "  area = m.pi*radius**2\n",
        "  return area  "
      ],
      "metadata": {
        "id": "3-y1B_3Jf2X9"
      },
      "execution_count": null,
      "outputs": []
    },
    {
      "cell_type": "code",
      "source": [
        "area_of_circle(9)"
      ],
      "metadata": {
        "colab": {
          "base_uri": "https://localhost:8080/"
        },
        "id": "WWDUWD1MgYK1",
        "outputId": "8d2530cf-9eee-42c9-dec8-76657bb7947b"
      },
      "execution_count": null,
      "outputs": [
        {
          "output_type": "execute_result",
          "data": {
            "text/plain": [
              "254.46900494077323"
            ]
          },
          "metadata": {},
          "execution_count": 26
        }
      ]
    },
    {
      "cell_type": "markdown",
      "source": [
        "Alternative way to write it."
      ],
      "metadata": {
        "id": "LxNPTcORhtlX"
      }
    },
    {
      "cell_type": "code",
      "execution_count": null,
      "metadata": {
        "colab": {
          "base_uri": "https://localhost:8080/"
        },
        "id": "2gMR0hDWcbd3",
        "outputId": "9e711fbd-f5f7-46d8-bd96-635c20dcc94e"
      },
      "outputs": [
        {
          "output_type": "stream",
          "name": "stdout",
          "text": [
            "Enter the Radius of circle here: 22\n",
            "1520.53084433746\n"
          ]
        }
      ],
      "source": [
        "# using input so user can enter the radius value.\n",
        "radius = eval(input(\"Enter the Radius of circle here: \"))\n",
        "\n",
        "area_of_circle = m.pi*radius**2\n",
        "\n",
        "print(area_of_circle)"
      ]
    },
    {
      "cell_type": "markdown",
      "source": [
        "# 2) Write a Python function to calculate the factorial of a given number."
      ],
      "metadata": {
        "id": "W5PZTT2gh7fs"
      }
    },
    {
      "cell_type": "code",
      "source": [
        "# math module is already imported so.. I'll start with def.\n",
        "def factorial(num):\n",
        "  fact = m.factorial(num)\n",
        "  return fact"
      ],
      "metadata": {
        "id": "pBH4dXJIh-0Z"
      },
      "execution_count": null,
      "outputs": []
    },
    {
      "cell_type": "code",
      "source": [
        "# Test the above code\n",
        "value = int(input(\"Enter the number to cal. the factorial: \"))\n",
        "f = factorial(value)\n",
        "print(\"Factorial number of\", value, \"is\", f)"
      ],
      "metadata": {
        "colab": {
          "base_uri": "https://localhost:8080/"
        },
        "id": "Cd5dmMtokc7F",
        "outputId": "949fc4cb-1742-4843-dfac-7eccbcc1a226"
      },
      "execution_count": null,
      "outputs": [
        {
          "output_type": "stream",
          "name": "stdout",
          "text": [
            "Enter the number to cal. the factorial: 5\n",
            "Factorial number of 5 is 120\n"
          ]
        }
      ]
    },
    {
      "cell_type": "markdown",
      "source": [
        "# 3) Write a Python function to check if a given number is prime or not."
      ],
      "metadata": {
        "id": "Xo3fw2KXlaiA"
      }
    },
    {
      "cell_type": "markdown",
      "source": [
        "So, a whole number greater than 1 that cannot be exactly divided by any whole number other than itself and 1 \n",
        "\n",
        "\n",
        "  (e.g. 2, 3, 5, 7, 11).\n",
        "\n",
        "\n",
        "\n"
      ],
      "metadata": {
        "id": "IstvFCbqmamE"
      }
    },
    {
      "cell_type": "code",
      "source": [
        "n = int(input())\n",
        "# if prime number is greater than 1\n",
        "if n > 1:\n",
        "\n",
        "  for i in range(2, int(n**0.5)+1):\n",
        "    if n%i == 0:\n",
        "      print(n, \"is not a Prime number.\")\n",
        "    break\n",
        "    \n",
        "  else:\n",
        "    print(n, \"Is a Prime number.\")\n",
        "# is given number is less than 1 or not even a number. it is not a prime number.\n",
        "else:\n",
        "  print(n, \"is not a prime number.\")\n",
        "\n",
        "# Some mistake in this code, better fix it and understand it."
      ],
      "metadata": {
        "colab": {
          "base_uri": "https://localhost:8080/"
        },
        "id": "TBzZIdO1ldi7",
        "outputId": "d16c88b5-4181-4b65-de08-7bb5ebdda59f"
      },
      "execution_count": null,
      "outputs": [
        {
          "name": "stdout",
          "output_type": "stream",
          "text": [
            "5\n"
          ]
        }
      ]
    },
    {
      "cell_type": "markdown",
      "source": [
        "now, using def to define weather the given input is prime or not."
      ],
      "metadata": {
        "id": "0kvaMZWgsowH"
      }
    },
    {
      "cell_type": "code",
      "source": [
        "# defing the code\n",
        "def prime(n):\n",
        "  # 1 is not a prime number, nor negative number.\n",
        "  if n <= 1:\n",
        "    return (n, \"is Not a prime number.\")\n",
        "# if given input is more than 1 \n",
        "  else:\n",
        "    for i in range(2, int(n**0.5) + 1):\n",
        "      # given value reminder come as 0\n",
        "      if n % i == 0:\n",
        "        return (n, \"is Not a prime number.\")\n",
        "# and if the reminder is not 0\n",
        "      return (n, \"is a prime number.\")"
      ],
      "metadata": {
        "id": "g86aStetq061"
      },
      "execution_count": 86,
      "outputs": []
    },
    {
      "cell_type": "code",
      "source": [
        "# check if above code works or not\n",
        "\n",
        "num = int(input(\"Enter the Prime number: \"))\n",
        "p = prime(num)\n",
        "print(p)"
      ],
      "metadata": {
        "colab": {
          "base_uri": "https://localhost:8080/"
        },
        "id": "JQ9tONVHqG8T",
        "outputId": "8195b12b-32a8-4980-a534-599c3946546c"
      },
      "execution_count": 87,
      "outputs": [
        {
          "output_type": "stream",
          "name": "stdout",
          "text": [
            "Enter the Prime number: 9\n",
            "(9, 'is a prime number.')\n"
          ]
        }
      ]
    },
    {
      "cell_type": "markdown",
      "source": [
        "# 4) Write a Python function to reverse a string."
      ],
      "metadata": {
        "id": "OKC4gjs5sa5_"
      }
    },
    {
      "cell_type": "code",
      "source": [
        "# first check how does the reverse work\n",
        "name = input()\n",
        "rev = name[::-1]\n",
        "print(rev)"
      ],
      "metadata": {
        "colab": {
          "base_uri": "https://localhost:8080/"
        },
        "id": "7KHWzFZWsaKj",
        "outputId": "d06914a0-dd5e-4dd1-f007-37fca4781ea7"
      },
      "execution_count": null,
      "outputs": [
        {
          "output_type": "stream",
          "name": "stdout",
          "text": [
            "kushang shah\n",
            "hahs gnahsuk\n"
          ]
        }
      ]
    },
    {
      "cell_type": "code",
      "source": [
        "# define the code.\n",
        "\n",
        "def rev(word):\n",
        "  stri = word[::-1]\n",
        "  return stri"
      ],
      "metadata": {
        "id": "yF4K9qzMtOQ-"
      },
      "execution_count": null,
      "outputs": []
    },
    {
      "cell_type": "code",
      "source": [
        "# check the above code\n",
        "\n",
        "w = input(\"Enter a sentence or a word: \")\n",
        "r = rev(w)\n",
        "print(r)"
      ],
      "metadata": {
        "colab": {
          "base_uri": "https://localhost:8080/"
        },
        "id": "eX5H9nbIunvZ",
        "outputId": "257f73ad-1737-4717-afb8-b2381f287d67"
      },
      "execution_count": null,
      "outputs": [
        {
          "output_type": "stream",
          "name": "stdout",
          "text": [
            "Enter a sentence or a word: kushang is bhoot\n",
            "toohb si gnahsuk\n"
          ]
        }
      ]
    },
    {
      "cell_type": "markdown",
      "source": [
        "# 5) Write a Python function to check if a given string is a palindrome or not."
      ],
      "metadata": {
        "id": "H9nqRVTA5wQY"
      }
    },
    {
      "cell_type": "markdown",
      "source": [
        "Either you read it from front or back the word will appear same, with meaning and spelling.\n",
        "e.g, mom, tot, lil, etc.\n"
      ],
      "metadata": {
        "id": "C9WV0T8E6KwP"
      }
    },
    {
      "cell_type": "code",
      "source": [
        "# using index to check if it works or not.\n",
        "\n",
        "word = input()\n",
        "pal = word[::-1]\n",
        "print(pal)"
      ],
      "metadata": {
        "id": "O-5vwOYc5wnk",
        "colab": {
          "base_uri": "https://localhost:8080/"
        },
        "outputId": "c9523ba1-8a76-4a2a-bbee-fe462ef46cb2"
      },
      "execution_count": 62,
      "outputs": [
        {
          "output_type": "stream",
          "name": "stdout",
          "text": [
            "madam\n",
            "madam\n"
          ]
        }
      ]
    },
    {
      "cell_type": "code",
      "source": [
        "# define the code for palindrome\n",
        "def palindrome(stri):\n",
        "  char = stri[::-1]\n",
        "  if stri == char:\n",
        "    return (\"It is Palindrome\")\n",
        "\n",
        "  else:\n",
        "    return (\"It is not a Palindrome\")"
      ],
      "metadata": {
        "id": "8abnn_FZN2o5"
      },
      "execution_count": 81,
      "outputs": []
    },
    {
      "cell_type": "code",
      "source": [
        "# Check the code\n",
        "word = input(\"Enter the word/charater to chack palindrome: \")\n",
        "p = palindrome(word)\n",
        "print(p)"
      ],
      "metadata": {
        "colab": {
          "base_uri": "https://localhost:8080/"
        },
        "id": "-D5WSGCNOYa1",
        "outputId": "2a915639-a8d5-4d97-b137-8a3a902133b4"
      },
      "execution_count": 82,
      "outputs": [
        {
          "output_type": "stream",
          "name": "stdout",
          "text": [
            "Enter the word/charater to chack palindrome: joj\n",
            "It is Palindrome\n"
          ]
        }
      ]
    },
    {
      "cell_type": "markdown",
      "source": [
        "# 6) Write a Python function to count the number of vowels in a given string."
      ],
      "metadata": {
        "id": "KeSIfhydRtLw"
      }
    },
    {
      "cell_type": "code",
      "source": [
        "# make a list of vowel\n",
        "list1 = ['A', 'E', 'I', 'O', 'U', 'a', 'e', 'i', 'o', 'u']\n",
        "\n",
        "def vowels(stri):\n",
        "  if stri in list1:\n",
        "    return (\"It is a vowel.\")\n",
        "  \n",
        "  else:\n",
        "    return (\"It is not a vowel.\")"
      ],
      "metadata": {
        "id": "bczowECcRvB3"
      },
      "execution_count": 98,
      "outputs": []
    },
    {
      "cell_type": "code",
      "source": [
        "word = str(input())\n",
        "v = vowels(word)\n",
        "print(v)"
      ],
      "metadata": {
        "colab": {
          "base_uri": "https://localhost:8080/"
        },
        "id": "8HkQJ3XVSnOw",
        "outputId": "a31b8489-1331-4dc3-9be7-e2b8b87cbc91"
      },
      "execution_count": 97,
      "outputs": [
        {
          "output_type": "stream",
          "name": "stdout",
          "text": [
            "f\n",
            "It is not a vowel, HINT: Try using Capital letter.\n"
          ]
        }
      ]
    },
    {
      "cell_type": "markdown",
      "source": [
        "# 7) Write a Python function to find the largest element in a list."
      ],
      "metadata": {
        "id": "tsm_6CTTTdSy"
      }
    },
    {
      "cell_type": "markdown",
      "source": [
        "By element i think chatgpt mean numbers, cause it will be hard in letters."
      ],
      "metadata": {
        "id": "cThy0iD0UN5u"
      }
    },
    {
      "cell_type": "code",
      "source": [
        "# defining the fuction\n",
        "\n",
        "def largest(char):\n",
        "  larg = char[0]\n",
        "\n",
        "  for i in range(1, len(char)):\n",
        "\n",
        "    if char[i] >= larg:\n",
        "      larg = char[i]\n",
        "\n",
        "    return larg"
      ],
      "metadata": {
        "id": "F9NAFMx-TfDZ"
      },
      "execution_count": 112,
      "outputs": []
    },
    {
      "cell_type": "code",
      "source": [
        "wo = ['3', '9', '5', '3', '7', '4']  #list(input(\"Enter the list of numbers: \"))\n",
        "\n",
        "la = largest(wo)\n",
        "print(la)"
      ],
      "metadata": {
        "colab": {
          "base_uri": "https://localhost:8080/"
        },
        "id": "d66iI2jsWmUV",
        "outputId": "ec87f417-2530-44be-e8e4-87c174d48e58"
      },
      "execution_count": 114,
      "outputs": [
        {
          "output_type": "stream",
          "name": "stdout",
          "text": [
            "9\n"
          ]
        }
      ]
    },
    {
      "cell_type": "markdown",
      "source": [
        "Two ways to define the def fuction in which both works on a makeup list and not in the user taken input. \n",
        "the code is not a universal for now."
      ],
      "metadata": {
        "id": "BLuINv1iajuT"
      }
    },
    {
      "cell_type": "code",
      "source": [
        "def larg_element(char1):\n",
        "  larg1 = None\n",
        "\n",
        "  for i in char1:\n",
        "    if larg1 is None or i > larg1:\n",
        "      larg1 = i\n",
        "\n",
        "    return larg1"
      ],
      "metadata": {
        "id": "igu5pyZqXgrV"
      },
      "execution_count": 115,
      "outputs": []
    },
    {
      "cell_type": "code",
      "source": [
        "wor = list(input(\"Enter the list of numbers: \"))\n",
        "\n",
        "lar = largest(wor)\n",
        "print(lar)"
      ],
      "metadata": {
        "colab": {
          "base_uri": "https://localhost:8080/"
        },
        "id": "iB2YzHzfaSXY",
        "outputId": "61f88819-85ae-4aa4-e2c3-008239d93a13"
      },
      "execution_count": 117,
      "outputs": [
        {
          "output_type": "stream",
          "name": "stdout",
          "text": [
            "Enter the list of numbers: 2, 4, 6, 7, 8, 3\n",
            "2\n"
          ]
        }
      ]
    }
  ]
}