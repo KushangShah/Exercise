{
 "cells": [
  {
   "cell_type": "code",
   "execution_count": 1,
   "metadata": {},
   "outputs": [
    {
     "name": "stdout",
     "output_type": "stream",
     "text": [
      "True\n"
     ]
    }
   ],
   "source": [
    "# Write a python program using def function to check if the given number is prime number or not\n",
    "\n",
    "\"\"\"def prime_num(n):\n",
    "    if n == 0 or n == 1:\n",
    "        return 1\n",
    "    else:\n",
    "        return (6*n) - 1 or (6*n) + 1\n",
    "    \n",
    "print(prime_num(2))\"\"\"\n",
    "\n",
    "def prime_num(n):\n",
    "    if n < 2:\n",
    "        return False\n",
    "    \n",
    "    for i in range(2, int(n ** 0.5) + 1):\n",
    "        if n % i == 0:\n",
    "            return False\n",
    "    \n",
    "    return True\n",
    "\n",
    "\n",
    "print(prime_num(3))\n",
    "             \n",
    "        "
   ]
  },
  {
   "cell_type": "code",
   "execution_count": 2,
   "metadata": {},
   "outputs": [
    {
     "name": "stdout",
     "output_type": "stream",
     "text": [
      "30\n"
     ]
    }
   ],
   "source": [
    "# creta a python program that takes in a list and return the sum of all the even numbers in the list\n",
    "\n",
    "def add_even(lst):\n",
    "    \n",
    "    even_sum = 0\n",
    "\n",
    "    \n",
    "    for i in lst:\n",
    "        if i % 2 == 0:\n",
    "            even_sum += i\n",
    "           \n",
    "            \n",
    "    return even_sum\n",
    "\n",
    "\n",
    "lst = [1, 2, 3, 4, 5, 6, 7, 8, 9, 10]\n",
    "print(add_even(lst))"
   ]
  },
  {
   "cell_type": "code",
   "execution_count": 3,
   "metadata": {},
   "outputs": [
    {
     "name": "stdout",
     "output_type": "stream",
     "text": [
      "iiiob retteb amla hahs gnahsuk\n"
     ]
    }
   ],
   "source": [
    "# reverse a string withot using any built in reverse funtion in python\n",
    "\n",
    "def rev_str(word):\n",
    "    return word[::-1]\n",
    "\n",
    "\n",
    "word = str(input(\"Enter only word\"))\n",
    "print(rev_str(word))\n"
   ]
  },
  {
   "cell_type": "code",
   "execution_count": 4,
   "metadata": {},
   "outputs": [
    {
     "name": "stdout",
     "output_type": "stream",
     "text": [
      "kushang shah almabetter boii\n",
      "10\n"
     ]
    }
   ],
   "source": [
    "# write a python program that count the number of vowels in the given string\n",
    "\n",
    "def vowel_count(word):\n",
    "    \n",
    "    count_vowel = 0\n",
    "    \n",
    "    for char in word:\n",
    "        if char in ['a', 'e', 'i', 'o', 'u', 'A', 'E', 'I', 'O', 'U']:\n",
    "            count_vowel += 1\n",
    "            \n",
    "    return count_vowel\n",
    "\n",
    "\n",
    "word = str(input(\"Enter the word ehre: \"))\n",
    "print(word)\n",
    "print(vowel_count(word))\n",
    "        "
   ]
  },
  {
   "cell_type": "code",
   "execution_count": 5,
   "metadata": {},
   "outputs": [
    {
     "name": "stdout",
     "output_type": "stream",
     "text": [
      "[1, 2, 3, 4, 5, 6, 7, 8, 9, 10]\n"
     ]
    }
   ],
   "source": [
    "# write a python code that takes in a list from the user and return the uniqe list\n",
    "\n",
    "def uniqe_lst(n):\n",
    "    \n",
    "    uniqe = []\n",
    "    \n",
    "    for i in n:\n",
    "        if i not in uniqe:\n",
    "            uniqe.append(i)\n",
    "            \n",
    "    return uniqe\n",
    "\n",
    "lst = [1, 2, 3, 1, 2, 3, 4, 5, 4, 5, 1, 2, 3, 4, 6,5 ,6, 7, 8, 1, 2, 3, 4, 5, 6, 9, 10]\n",
    "print(uniqe_lst(lst))\n",
    "\n",
    "    "
   ]
  },
  {
   "cell_type": "code",
   "execution_count": 6,
   "metadata": {},
   "outputs": [
    {
     "name": "stdout",
     "output_type": "stream",
     "text": [
      "True\n"
     ]
    }
   ],
   "source": [
    "# write a python program that cheack if the given string is palindrome\n",
    "\n",
    "def is_palindrome(string):\n",
    "    \n",
    "    if string == string[::-1]:\n",
    "        return True\n",
    "        \n",
    "string = \"123321\"\n",
    "print(is_palindrome(string))"
   ]
  },
  {
   "cell_type": "code",
   "execution_count": 7,
   "metadata": {},
   "outputs": [
    {
     "name": "stdout",
     "output_type": "stream",
     "text": [
      "hydrochroicacidmethelinetetraperioxide\n"
     ]
    }
   ],
   "source": [
    "# write a python program that takes in list of words and return the longest word present the words\n",
    "\n",
    "\"\"\"def long_word(words):\n",
    "    for word in words:\n",
    "        if word == max(len(word)):\n",
    "            \n",
    "            print(word)\n",
    "    \n",
    "    \n",
    "word = [\"kushang\", 'shah', 'alma', 'beter', 'boii']\n",
    "print(long_word(word))\"\"\"\n",
    "\n",
    "def long_word(words):\n",
    "    \n",
    "    long = \"\"\n",
    "    \n",
    "    for word in words:\n",
    "        if len(long) < len(word):\n",
    "            #long.append(word)\n",
    "            long = word\n",
    "            \n",
    "    return long\n",
    "\n",
    "words = [\"apple\", \"banana\", \"cherry\", \"durian\", \"elephant\", \"aeroplane\", \"hydrochroicacidmethelinetetraperioxide\"]\n",
    "print(long_word(words))"
   ]
  },
  {
   "cell_type": "code",
   "execution_count": 8,
   "metadata": {},
   "outputs": [
    {
     "name": "stdout",
     "output_type": "stream",
     "text": [
      " PIKACHUUUUUU  PIKACHUUUUUU  PIKACHUUUUUU  PIKACHUUUUUU  PIKACHUUUUUU  PIKACHUUUUUU  PIKACHUUUUUU  PIKACHUUUUUU  PIKACHUUUUUU  PIKACHUUUUUU  PIKACHUUUUUU  PIKACHUUUUUU  PIKACHUUUUUU  PIKACHUUUUUU  PIKACHUUUUUU  PIKACHUUUUUU  PIKACHUUUUUU  PIKACHUUUUUU  PIKACHUUUUUU  PIKACHUUUUUU  PIKACHUUUUUU  PIKACHUUUUUU  PIKACHUUUUUU  PIKACHUUUUUU  PIKACHUUUUUU  PIKACHUUUUUU  PIKACHUUUUUU  PIKACHUUUUUU  PIKACHUUUUUU  PIKACHUUUUUU  PIKACHUUUUUU  PIKACHUUUUUU  PIKACHUUUUUU  PIKACHUUUUUU  PIKACHUUUUUU  PIKACHUUUUUU  PIKACHUUUUUU  PIKACHUUUUUU  PIKACHUUUUUU  PIKACHUUUUUU  PIKACHUUUUUU  PIKACHUUUUUU  PIKACHUUUUUU  PIKACHUUUUUU  PIKACHUUUUUU  PIKACHUUUUUU  PIKACHUUUUUU  PIKACHUUUUUU  PIKACHUUUUUU  PIKACHUUUUUU  PIKACHUUUUUU  PIKACHUUUUUU  PIKACHUUUUUU  PIKACHUUUUUU  PIKACHUUUUUU  PIKACHUUUUUU  PIKACHUUUUUU  PIKACHUUUUUU  PIKACHUUUUUU  PIKACHUUUUUU  PIKACHUUUUUU  PIKACHUUUUUU  PIKACHUUUUUU  PIKACHUUUUUU  PIKACHUUUUUU  PIKACHUUUUUU  PIKACHUUUUUU  PIKACHUUUUUU  PIKACHUUUUUU  PIKACHUUUUUU  PIKACHUUUUUU  PIKACHUUUUUU  PIKACHUUUUUU  PIKACHUUUUUU  PIKACHUUUUUU  PIKACHUUUUUU  PIKACHUUUUUU  PIKACHUUUUUU  PIKACHUUUUUU  PIKACHUUUUUU  PIKACHUUUUUU  PIKACHUUUUUU  PIKACHUUUUUU  PIKACHUUUUUU  PIKACHUUUUUU  PIKACHUUUUUU  PIKACHUUUUUU  PIKACHUUUUUU  PIKACHUUUUUU  PIKACHUUUUUU  PIKACHUUUUUU  PIKACHUUUUUU  PIKACHUUUUUU  PIKACHUUUUUU  PIKACHUUUUUU  PIKACHUUUUUU  PIKACHUUUUUU  PIKACHUUUUUU  PIKACHUUUUUU  PIKACHUUUUUU  PIKACHUUUUUU  PIKACHUUUUUU  PIKACHUUUUUU  PIKACHUUUUUU  PIKACHUUUUUU  PIKACHUUUUUU  PIKACHUUUUUU  PIKACHUUUUUU  PIKACHUUUUUU  PIKACHUUUUUU  PIKACHUUUUUU  PIKACHUUUUUU  PIKACHUUUUUU  PIKACHUUUUUU  PIKACHUUUUUU  PIKACHUUUUUU  PIKACHUUUUUU  PIKACHUUUUUU  PIKACHUUUUUU  PIKACHUUUUUU \n"
     ]
    }
   ],
   "source": [
    "# write a code that finds the factorial of a given number\n",
    "\n",
    "def factorial_num(num):\n",
    "    if num != 0:\n",
    "        return num * factorial_num(num - 1)\n",
    "    else:\n",
    "        return \" PIKACHUUUUUU \"\n",
    "    \n",
    "\n",
    "print(factorial_num(5))\n",
    "        "
   ]
  },
  {
   "cell_type": "code",
   "execution_count": 9,
   "metadata": {},
   "outputs": [
    {
     "name": "stdout",
     "output_type": "stream",
     "text": [
      "['', 'PIKACHUUUUUU', '', 'PIKACHUUUUUU', '', 'PIKACHUUUUUU', '', 'PIKACHUUUUUU', '', 'PIKACHUUUUUU', '', 'PIKACHUUUUUU', '', 'PIKACHUUUUUU', '', 'PIKACHUUUUUU', '', 'PIKACHUUUUUU', '', 'PIKACHUUUUUU', '', 'PIKACHUUUUUU', '', 'PIKACHUUUUUU', '', 'PIKACHUUUUUU', '', 'PIKACHUUUUUU', '', 'PIKACHUUUUUU', '', 'PIKACHUUUUUU', '', 'PIKACHUUUUUU', '', 'PIKACHUUUUUU', '', 'PIKACHUUUUUU', '', 'PIKACHUUUUUU', '', 'PIKACHUUUUUU', '', 'PIKACHUUUUUU', '', 'PIKACHUUUUUU', '', 'PIKACHUUUUUU', '', 'PIKACHUUUUUU', '', 'PIKACHUUUUUU', '', 'PIKACHUUUUUU', '', 'PIKACHUUUUUU', '', 'PIKACHUUUUUU', '', 'PIKACHUUUUUU', '', 'PIKACHUUUUUU', '', 'PIKACHUUUUUU', '', 'PIKACHUUUUUU', '', 'PIKACHUUUUUU', '', 'PIKACHUUUUUU', '', 'PIKACHUUUUUU', '', 'PIKACHUUUUUU', '', 'PIKACHUUUUUU', '', 'PIKACHUUUUUU', '', 'PIKACHUUUUUU', '', 'PIKACHUUUUUU', '', 'PIKACHUUUUUU', '', 'PIKACHUUUUUU', '', 'PIKACHUUUUUU', '', 'PIKACHUUUUUU', '', 'PIKACHUUUUUU', '', 'PIKACHUUUUUU', '', 'PIKACHUUUUUU', '', 'PIKACHUUUUUU', '', 'PIKACHUUUUUU', '', 'PIKACHUUUUUU', '', 'PIKACHUUUUUU', '', 'PIKACHUUUUUU', '', 'PIKACHUUUUUU', '', 'PIKACHUUUUUU', '', 'PIKACHUUUUUU', '', 'PIKACHUUUUUU', '', 'PIKACHUUUUUU', '', 'PIKACHUUUUUU', '', 'PIKACHUUUUUU', '', 'PIKACHUUUUUU', '', 'PIKACHUUUUUU', '', 'PIKACHUUUUUU', '', 'PIKACHUUUUUU', '', 'PIKACHUUUUUU', '', 'PIKACHUUUUUU', '', 'PIKACHUUUUUU', '', 'PIKACHUUUUUU', '', 'PIKACHUUUUUU', '', 'PIKACHUUUUUU', '', 'PIKACHUUUUUU', '', 'PIKACHUUUUUU', '', 'PIKACHUUUUUU', '', 'PIKACHUUUUUU', '', 'PIKACHUUUUUU', '', 'PIKACHUUUUUU', '', 'PIKACHUUUUUU', '', 'PIKACHUUUUUU', '', 'PIKACHUUUUUU', '', 'PIKACHUUUUUU', '', 'PIKACHUUUUUU', '', 'PIKACHUUUUUU', '', 'PIKACHUUUUUU', '', 'PIKACHUUUUUU', '', 'PIKACHUUUUUU', '', 'PIKACHUUUUUU', '', 'PIKACHUUUUUU', '', 'PIKACHUUUUUU', '', 'PIKACHUUUUUU', '', 'PIKACHUUUUUU', '', 'PIKACHUUUUUU', '', 'PIKACHUUUUUU', '', 'PIKACHUUUUUU', '', 'PIKACHUUUUUU', '', 'PIKACHUUUUUU', '', 'PIKACHUUUUUU', '', 'PIKACHUUUUUU', '', 'PIKACHUUUUUU', '', 'PIKACHUUUUUU', '', 'PIKACHUUUUUU', '', 'PIKACHUUUUUU', '', 'PIKACHUUUUUU', '', 'PIKACHUUUUUU', '', 'PIKACHUUUUUU', '', 'PIKACHUUUUUU', '', 'PIKACHUUUUUU', '', 'PIKACHUUUUUU', '', 'PIKACHUUUUUU', '', 'PIKACHUUUUUU', '', 'PIKACHUUUUUU', '', 'PIKACHUUUUUU', '', 'PIKACHUUUUUU', '', 'PIKACHUUUUUU', '', 'PIKACHUUUUUU', '', 'PIKACHUUUUUU', '', 'PIKACHUUUUUU', '', 'PIKACHUUUUUU', '', 'PIKACHUUUUUU', '', 'PIKACHUUUUUU', '', 'PIKACHUUUUUU']\n"
     ]
    }
   ],
   "source": [
    "a = \" PIKACHUUUUUU  PIKACHUUUUUU  PIKACHUUUUUU  PIKACHUUUUUU  PIKACHUUUUUU  PIKACHUUUUUU  PIKACHUUUUUU  PIKACHUUUUUU  PIKACHUUUUUU  PIKACHUUUUUU  PIKACHUUUUUU  PIKACHUUUUUU  PIKACHUUUUUU  PIKACHUUUUUU  PIKACHUUUUUU  PIKACHUUUUUU  PIKACHUUUUUU  PIKACHUUUUUU  PIKACHUUUUUU  PIKACHUUUUUU  PIKACHUUUUUU  PIKACHUUUUUU  PIKACHUUUUUU  PIKACHUUUUUU  PIKACHUUUUUU  PIKACHUUUUUU  PIKACHUUUUUU  PIKACHUUUUUU  PIKACHUUUUUU  PIKACHUUUUUU  PIKACHUUUUUU  PIKACHUUUUUU  PIKACHUUUUUU  PIKACHUUUUUU  PIKACHUUUUUU  PIKACHUUUUUU  PIKACHUUUUUU  PIKACHUUUUUU  PIKACHUUUUUU  PIKACHUUUUUU  PIKACHUUUUUU  PIKACHUUUUUU  PIKACHUUUUUU  PIKACHUUUUUU  PIKACHUUUUUU  PIKACHUUUUUU  PIKACHUUUUUU  PIKACHUUUUUU  PIKACHUUUUUU  PIKACHUUUUUU  PIKACHUUUUUU  PIKACHUUUUUU  PIKACHUUUUUU  PIKACHUUUUUU  PIKACHUUUUUU  PIKACHUUUUUU  PIKACHUUUUUU  PIKACHUUUUUU  PIKACHUUUUUU  PIKACHUUUUUU  PIKACHUUUUUU  PIKACHUUUUUU  PIKACHUUUUUU  PIKACHUUUUUU  PIKACHUUUUUU  PIKACHUUUUUU  PIKACHUUUUUU  PIKACHUUUUUU  PIKACHUUUUUU  PIKACHUUUUUU  PIKACHUUUUUU  PIKACHUUUUUU  PIKACHUUUUUU  PIKACHUUUUUU  PIKACHUUUUUU  PIKACHUUUUUU  PIKACHUUUUUU  PIKACHUUUUUU  PIKACHUUUUUU  PIKACHUUUUUU  PIKACHUUUUUU  PIKACHUUUUUU  PIKACHUUUUUU  PIKACHUUUUUU  PIKACHUUUUUU  PIKACHUUUUUU  PIKACHUUUUUU  PIKACHUUUUUU  PIKACHUUUUUU  PIKACHUUUUUU  PIKACHUUUUUU  PIKACHUUUUUU  PIKACHUUUUUU  PIKACHUUUUUU  PIKACHUUUUUU  PIKACHUUUUUU  PIKACHUUUUUU  PIKACHUUUUUU  PIKACHUUUUUU  PIKACHUUUUUU  PIKACHUUUUUU  PIKACHUUUUUU  PIKACHUUUUUU  PIKACHUUUUUU  PIKACHUUUUUU  PIKACHUUUUUU  PIKACHUUUUUU  PIKACHUUUUUU  PIKACHUUUUUU  PIKACHUUUUUU  PIKACHUUUUUU  PIKACHUUUUUU  PIKACHUUUUUU  PIKACHUUUUUU  PIKACHUUUUUU  PIKACHUUUUUU  PIKACHUUUUUU  PIKACHUUUUUU  PIKACHUUUUUU  PIKACHUUUUUU\"\n",
    "b = a.split(\" \")\n",
    "print(b)"
   ]
  },
  {
   "cell_type": "code",
   "execution_count": 10,
   "metadata": {},
   "outputs": [
    {
     "name": "stdout",
     "output_type": "stream",
     "text": [
      "['P', 'I', 'K', 'A', 'C', 'H', 'U', 'U', 'U', 'U', 'U', 'U']\n",
      "['P', 'I', 'K', 'A', 'C', 'H', 'U', 'U', 'U', 'U', 'U', 'U']\n",
      "['P', 'I', 'K', 'A', 'C', 'H', 'U', 'U', 'U', 'U', 'U', 'U']\n",
      "['P', 'I', 'K', 'A', 'C', 'H', 'U', 'U', 'U', 'U', 'U', 'U']\n",
      "['P', 'I', 'K', 'A', 'C', 'H', 'U', 'U', 'U', 'U', 'U', 'U']\n",
      "['P', 'I', 'K', 'A', 'C', 'H', 'U', 'U', 'U', 'U', 'U', 'U']\n",
      "['P', 'I', 'K', 'A', 'C', 'H', 'U', 'U', 'U', 'U', 'U', 'U']\n",
      "['P', 'I', 'K', 'A', 'C', 'H', 'U', 'U', 'U', 'U', 'U', 'U']\n",
      "['P', 'I', 'K', 'A', 'C', 'H', 'U', 'U', 'U', 'U', 'U', 'U']\n",
      "['P', 'I', 'K', 'A', 'C', 'H', 'U', 'U', 'U', 'U', 'U', 'U']\n",
      "['P', 'I', 'K', 'A', 'C', 'H', 'U', 'U', 'U', 'U', 'U', 'U']\n",
      "['P', 'I', 'K', 'A', 'C', 'H', 'U', 'U', 'U', 'U', 'U', 'U']\n",
      "['P', 'I', 'K', 'A', 'C', 'H', 'U', 'U', 'U', 'U', 'U', 'U']\n",
      "['P', 'I', 'K', 'A', 'C', 'H', 'U', 'U', 'U', 'U', 'U', 'U']\n",
      "['P', 'I', 'K', 'A', 'C', 'H', 'U', 'U', 'U', 'U', 'U', 'U']\n",
      "['P', 'I', 'K', 'A', 'C', 'H', 'U', 'U', 'U', 'U', 'U', 'U']\n",
      "['P', 'I', 'K', 'A', 'C', 'H', 'U', 'U', 'U', 'U', 'U', 'U']\n",
      "['P', 'I', 'K', 'A', 'C', 'H', 'U', 'U', 'U', 'U', 'U', 'U']\n",
      "['P', 'I', 'K', 'A', 'C', 'H', 'U', 'U', 'U', 'U', 'U', 'U']\n",
      "['P', 'I', 'K', 'A', 'C', 'H', 'U', 'U', 'U', 'U', 'U', 'U']\n",
      "['P', 'I', 'K', 'A', 'C', 'H', 'U', 'U', 'U', 'U', 'U', 'U']\n",
      "['P', 'I', 'K', 'A', 'C', 'H', 'U', 'U', 'U', 'U', 'U', 'U']\n",
      "['P', 'I', 'K', 'A', 'C', 'H', 'U', 'U', 'U', 'U', 'U', 'U']\n",
      "['P', 'I', 'K', 'A', 'C', 'H', 'U', 'U', 'U', 'U', 'U', 'U']\n",
      "['P', 'I', 'K', 'A', 'C', 'H', 'U', 'U', 'U', 'U', 'U', 'U']\n",
      "['P', 'I', 'K', 'A', 'C', 'H', 'U', 'U', 'U', 'U', 'U', 'U']\n",
      "['P', 'I', 'K', 'A', 'C', 'H', 'U', 'U', 'U', 'U', 'U', 'U']\n",
      "['P', 'I', 'K', 'A', 'C', 'H', 'U', 'U', 'U', 'U', 'U', 'U']\n",
      "['P', 'I', 'K', 'A', 'C', 'H', 'U', 'U', 'U', 'U', 'U', 'U']\n",
      "['P', 'I', 'K', 'A', 'C', 'H', 'U', 'U', 'U', 'U', 'U', 'U']\n",
      "['P', 'I', 'K', 'A', 'C', 'H', 'U', 'U', 'U', 'U', 'U', 'U']\n",
      "['P', 'I', 'K', 'A', 'C', 'H', 'U', 'U', 'U', 'U', 'U', 'U']\n",
      "['P', 'I', 'K', 'A', 'C', 'H', 'U', 'U', 'U', 'U', 'U', 'U']\n",
      "['P', 'I', 'K', 'A', 'C', 'H', 'U', 'U', 'U', 'U', 'U', 'U']\n",
      "['P', 'I', 'K', 'A', 'C', 'H', 'U', 'U', 'U', 'U', 'U', 'U']\n",
      "['P', 'I', 'K', 'A', 'C', 'H', 'U', 'U', 'U', 'U', 'U', 'U']\n",
      "['P', 'I', 'K', 'A', 'C', 'H', 'U', 'U', 'U', 'U', 'U', 'U']\n",
      "['P', 'I', 'K', 'A', 'C', 'H', 'U', 'U', 'U', 'U', 'U', 'U']\n",
      "['P', 'I', 'K', 'A', 'C', 'H', 'U', 'U', 'U', 'U', 'U', 'U']\n",
      "['P', 'I', 'K', 'A', 'C', 'H', 'U', 'U', 'U', 'U', 'U', 'U']\n",
      "['P', 'I', 'K', 'A', 'C', 'H', 'U', 'U', 'U', 'U', 'U', 'U']\n",
      "['P', 'I', 'K', 'A', 'C', 'H', 'U', 'U', 'U', 'U', 'U', 'U']\n",
      "['P', 'I', 'K', 'A', 'C', 'H', 'U', 'U', 'U', 'U', 'U', 'U']\n",
      "['P', 'I', 'K', 'A', 'C', 'H', 'U', 'U', 'U', 'U', 'U', 'U']\n",
      "['P', 'I', 'K', 'A', 'C', 'H', 'U', 'U', 'U', 'U', 'U', 'U']\n",
      "['P', 'I', 'K', 'A', 'C', 'H', 'U', 'U', 'U', 'U', 'U', 'U']\n",
      "['P', 'I', 'K', 'A', 'C', 'H', 'U', 'U', 'U', 'U', 'U', 'U']\n",
      "['P', 'I', 'K', 'A', 'C', 'H', 'U', 'U', 'U', 'U', 'U', 'U']\n",
      "['P', 'I', 'K', 'A', 'C', 'H', 'U', 'U', 'U', 'U', 'U', 'U']\n",
      "['P', 'I', 'K', 'A', 'C', 'H', 'U', 'U', 'U', 'U', 'U', 'U']\n",
      "['P', 'I', 'K', 'A', 'C', 'H', 'U', 'U', 'U', 'U', 'U', 'U']\n",
      "['P', 'I', 'K', 'A', 'C', 'H', 'U', 'U', 'U', 'U', 'U', 'U']\n",
      "['P', 'I', 'K', 'A', 'C', 'H', 'U', 'U', 'U', 'U', 'U', 'U']\n",
      "['P', 'I', 'K', 'A', 'C', 'H', 'U', 'U', 'U', 'U', 'U', 'U']\n",
      "['P', 'I', 'K', 'A', 'C', 'H', 'U', 'U', 'U', 'U', 'U', 'U']\n",
      "['P', 'I', 'K', 'A', 'C', 'H', 'U', 'U', 'U', 'U', 'U', 'U']\n",
      "['P', 'I', 'K', 'A', 'C', 'H', 'U', 'U', 'U', 'U', 'U', 'U']\n",
      "['P', 'I', 'K', 'A', 'C', 'H', 'U', 'U', 'U', 'U', 'U', 'U']\n",
      "['P', 'I', 'K', 'A', 'C', 'H', 'U', 'U', 'U', 'U', 'U', 'U']\n",
      "['P', 'I', 'K', 'A', 'C', 'H', 'U', 'U', 'U', 'U', 'U', 'U']\n",
      "['P', 'I', 'K', 'A', 'C', 'H', 'U', 'U', 'U', 'U', 'U', 'U']\n",
      "['P', 'I', 'K', 'A', 'C', 'H', 'U', 'U', 'U', 'U', 'U', 'U']\n",
      "['P', 'I', 'K', 'A', 'C', 'H', 'U', 'U', 'U', 'U', 'U', 'U']\n",
      "['P', 'I', 'K', 'A', 'C', 'H', 'U', 'U', 'U', 'U', 'U', 'U']\n",
      "['P', 'I', 'K', 'A', 'C', 'H', 'U', 'U', 'U', 'U', 'U', 'U']\n",
      "['P', 'I', 'K', 'A', 'C', 'H', 'U', 'U', 'U', 'U', 'U', 'U']\n",
      "['P', 'I', 'K', 'A', 'C', 'H', 'U', 'U', 'U', 'U', 'U', 'U']\n",
      "['P', 'I', 'K', 'A', 'C', 'H', 'U', 'U', 'U', 'U', 'U', 'U']\n",
      "['P', 'I', 'K', 'A', 'C', 'H', 'U', 'U', 'U', 'U', 'U', 'U']\n",
      "['P', 'I', 'K', 'A', 'C', 'H', 'U', 'U', 'U', 'U', 'U', 'U']\n",
      "['P', 'I', 'K', 'A', 'C', 'H', 'U', 'U', 'U', 'U', 'U', 'U']\n",
      "['P', 'I', 'K', 'A', 'C', 'H', 'U', 'U', 'U', 'U', 'U', 'U']\n",
      "['P', 'I', 'K', 'A', 'C', 'H', 'U', 'U', 'U', 'U', 'U', 'U']\n",
      "['P', 'I', 'K', 'A', 'C', 'H', 'U', 'U', 'U', 'U', 'U', 'U']\n",
      "['P', 'I', 'K', 'A', 'C', 'H', 'U', 'U', 'U', 'U', 'U', 'U']\n",
      "['P', 'I', 'K', 'A', 'C', 'H', 'U', 'U', 'U', 'U', 'U', 'U']\n",
      "['P', 'I', 'K', 'A', 'C', 'H', 'U', 'U', 'U', 'U', 'U', 'U']\n",
      "['P', 'I', 'K', 'A', 'C', 'H', 'U', 'U', 'U', 'U', 'U', 'U']\n",
      "['P', 'I', 'K', 'A', 'C', 'H', 'U', 'U', 'U', 'U', 'U', 'U']\n",
      "['P', 'I', 'K', 'A', 'C', 'H', 'U', 'U', 'U', 'U', 'U', 'U']\n",
      "['P', 'I', 'K', 'A', 'C', 'H', 'U', 'U', 'U', 'U', 'U', 'U']\n",
      "['P', 'I', 'K', 'A', 'C', 'H', 'U', 'U', 'U', 'U', 'U', 'U']\n",
      "['P', 'I', 'K', 'A', 'C', 'H', 'U', 'U', 'U', 'U', 'U', 'U']\n",
      "['P', 'I', 'K', 'A', 'C', 'H', 'U', 'U', 'U', 'U', 'U', 'U']\n",
      "['P', 'I', 'K', 'A', 'C', 'H', 'U', 'U', 'U', 'U', 'U', 'U']\n",
      "['P', 'I', 'K', 'A', 'C', 'H', 'U', 'U', 'U', 'U', 'U', 'U']\n",
      "['P', 'I', 'K', 'A', 'C', 'H', 'U', 'U', 'U', 'U', 'U', 'U']\n",
      "['P', 'I', 'K', 'A', 'C', 'H', 'U', 'U', 'U', 'U', 'U', 'U']\n",
      "['P', 'I', 'K', 'A', 'C', 'H', 'U', 'U', 'U', 'U', 'U', 'U']\n",
      "['P', 'I', 'K', 'A', 'C', 'H', 'U', 'U', 'U', 'U', 'U', 'U']\n",
      "['P', 'I', 'K', 'A', 'C', 'H', 'U', 'U', 'U', 'U', 'U', 'U']\n",
      "['P', 'I', 'K', 'A', 'C', 'H', 'U', 'U', 'U', 'U', 'U', 'U']\n",
      "['P', 'I', 'K', 'A', 'C', 'H', 'U', 'U', 'U', 'U', 'U', 'U']\n",
      "['P', 'I', 'K', 'A', 'C', 'H', 'U', 'U', 'U', 'U', 'U', 'U']\n",
      "['P', 'I', 'K', 'A', 'C', 'H', 'U', 'U', 'U', 'U', 'U', 'U']\n",
      "['P', 'I', 'K', 'A', 'C', 'H', 'U', 'U', 'U', 'U', 'U', 'U']\n",
      "['P', 'I', 'K', 'A', 'C', 'H', 'U', 'U', 'U', 'U', 'U', 'U']\n",
      "['P', 'I', 'K', 'A', 'C', 'H', 'U', 'U', 'U', 'U', 'U', 'U']\n",
      "['P', 'I', 'K', 'A', 'C', 'H', 'U', 'U', 'U', 'U', 'U', 'U']\n",
      "['P', 'I', 'K', 'A', 'C', 'H', 'U', 'U', 'U', 'U', 'U', 'U']\n",
      "['P', 'I', 'K', 'A', 'C', 'H', 'U', 'U', 'U', 'U', 'U', 'U']\n",
      "['P', 'I', 'K', 'A', 'C', 'H', 'U', 'U', 'U', 'U', 'U', 'U']\n",
      "['P', 'I', 'K', 'A', 'C', 'H', 'U', 'U', 'U', 'U', 'U', 'U']\n",
      "['P', 'I', 'K', 'A', 'C', 'H', 'U', 'U', 'U', 'U', 'U', 'U']\n",
      "['P', 'I', 'K', 'A', 'C', 'H', 'U', 'U', 'U', 'U', 'U', 'U']\n",
      "['P', 'I', 'K', 'A', 'C', 'H', 'U', 'U', 'U', 'U', 'U', 'U']\n",
      "['P', 'I', 'K', 'A', 'C', 'H', 'U', 'U', 'U', 'U', 'U', 'U']\n",
      "['P', 'I', 'K', 'A', 'C', 'H', 'U', 'U', 'U', 'U', 'U', 'U']\n",
      "['P', 'I', 'K', 'A', 'C', 'H', 'U', 'U', 'U', 'U', 'U', 'U']\n",
      "['P', 'I', 'K', 'A', 'C', 'H', 'U', 'U', 'U', 'U', 'U', 'U']\n",
      "['P', 'I', 'K', 'A', 'C', 'H', 'U', 'U', 'U', 'U', 'U', 'U']\n",
      "['P', 'I', 'K', 'A', 'C', 'H', 'U', 'U', 'U', 'U', 'U', 'U']\n",
      "['P', 'I', 'K', 'A', 'C', 'H', 'U', 'U', 'U', 'U', 'U', 'U']\n",
      "['P', 'I', 'K', 'A', 'C', 'H', 'U', 'U', 'U', 'U', 'U', 'U']\n",
      "['P', 'I', 'K', 'A', 'C', 'H', 'U', 'U', 'U', 'U', 'U', 'U']\n",
      "['P', 'I', 'K', 'A', 'C', 'H', 'U', 'U', 'U', 'U', 'U', 'U']\n",
      "['P', 'I', 'K', 'A', 'C', 'H', 'U', 'U', 'U', 'U', 'U', 'U']\n",
      "['P', 'I', 'K', 'A', 'C', 'H', 'U', 'U', 'U', 'U', 'U', 'U']\n",
      "['P', 'I', 'K', 'A', 'C', 'H', 'U', 'U', 'U', 'U', 'U', 'U']\n",
      "['P', 'I', 'K', 'A', 'C', 'H', 'U', 'U', 'U', 'U', 'U', 'U']\n"
     ]
    }
   ],
   "source": [
    "for i in b:\n",
    "    \n",
    "    word_str = []\n",
    "    \n",
    "    if i == 'PIKACHUUUUUU':\n",
    "        word_str += i\n",
    "        print(word_str)"
   ]
  },
  {
   "cell_type": "code",
   "execution_count": 11,
   "metadata": {},
   "outputs": [
    {
     "data": {
      "text/plain": [
       "['P', 'I', 'K', 'A', 'C', 'H', 'U', 'U', 'U', 'U', 'U', 'U']"
      ]
     },
     "execution_count": 11,
     "metadata": {},
     "output_type": "execute_result"
    }
   ],
   "source": [
    "word_str"
   ]
  },
  {
   "cell_type": "code",
   "execution_count": 12,
   "metadata": {},
   "outputs": [
    {
     "name": "stdout",
     "output_type": "stream",
     "text": [
      "2005 False\n"
     ]
    }
   ],
   "source": [
    "# Implement a function that checks if a given year is a leap year.\n",
    "\n",
    "def leap_year(year):\n",
    "    if year % 4 == 0:\n",
    "        if year % 100 == 0:\n",
    "            if year % 400 == 0:\n",
    "                return True\n",
    "            return False\n",
    "        return True\n",
    "    return False\n",
    "    \n",
    "    \n",
    "# output\n",
    "year = (eval(input(\"Enter the year here: \")))\n",
    "print(year, leap_year(year))"
   ]
  },
  {
   "cell_type": "code",
   "execution_count": 13,
   "metadata": {},
   "outputs": [
    {
     "name": "stdout",
     "output_type": "stream",
     "text": [
      "[1, 4, 5, 6, 7, 8]\n"
     ]
    }
   ],
   "source": [
    "# write a python program that takes two lst and return the comman element in a new list:\n",
    "\n",
    "def common_element(ele1, ele2):\n",
    "    \n",
    "    element_common = []\n",
    "    \n",
    "    for element in ele1:\n",
    "        if element in ele2:\n",
    "            element_common.append(element)\n",
    "    return element_common\n",
    "    \n",
    "\n",
    "# output\n",
    "lst1 = [1, 2, 3, 4, 5, 6, 7, 8, 9, 10]\n",
    "lst2 = [11, 12, 13, 14, 4, 5, 6, 7, 8, 15, 16, 17,1]    \n",
    "\n",
    "print(common_element(lst1, lst2))"
   ]
  },
  {
   "cell_type": "code",
   "execution_count": null,
   "metadata": {},
   "outputs": [],
   "source": []
  }
 ],
 "metadata": {
  "kernelspec": {
   "display_name": "Python 3",
   "language": "python",
   "name": "python3"
  },
  "language_info": {
   "codemirror_mode": {
    "name": "ipython",
    "version": 3
   },
   "file_extension": ".py",
   "mimetype": "text/x-python",
   "name": "python",
   "nbconvert_exporter": "python",
   "pygments_lexer": "ipython3",
   "version": "3.11.2"
  },
  "orig_nbformat": 4
 },
 "nbformat": 4,
 "nbformat_minor": 2
}
